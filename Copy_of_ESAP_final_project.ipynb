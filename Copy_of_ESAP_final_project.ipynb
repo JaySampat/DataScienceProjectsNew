{
  "cells": [
    {
      "cell_type": "markdown",
      "metadata": {
        "id": "X3etULqwy3ux"
      },
      "source": [
        "\n",
        "**This is what you'll need to submit on Gradescope:**\n",
        "\n",
        "1. This notebook, completed.\n",
        "2. Your data in csv form (as noted in the Data Cleaning section below).\n",
        "3. Any other code you have written for your project."
      ]
    },
    {
      "cell_type": "markdown",
      "metadata": {
        "id": "TlnwL7say3vB"
      },
      "source": [
        "# Data cleaning"
      ]
    },
    {
      "cell_type": "markdown",
      "metadata": {
        "id": "UPFVAZISy3vB"
      },
      "source": [
        "The first step to data analysis is ensuring that you are focussing on the subset of the data that you have complete information about.\n",
        "\n",
        "1. Having taken a look at your dataset, what columns and rows have you decided to drop from it? Why?\n",
        "\n",
        "*A valid reason for dropping a column could be lack of information about the column, lack of a clear understanding of the units of measurement, a general feeling that it does not contain any useful information etc*\n",
        "\n",
        "If you decided to focus on just a subset of your data please describe why you chose that subset and why you feel the other rows do not matter."
      ]
    },
    {
      "cell_type": "markdown",
      "source": [
        "We have decided to drop the web description colums and the state column. we want to focus more on the other columns because we can extract more useful information from them to compare different aspects of each breach.  "
      ],
      "metadata": {
        "id": "mwSnGvNEDZww"
      }
    },
    {
      "cell_type": "markdown",
      "source": [
        "2. If you chose to merge on any additional datasets, include the code for that here. "
      ],
      "metadata": {
        "id": "kLaAaRLp0LVH"
      }
    },
    {
      "cell_type": "markdown",
      "metadata": {
        "id": "Y7cf0zyay3vC"
      },
      "source": [
        "*Answer in this markdown cell. Add more markdown cells if you want.*"
      ]
    },
    {
      "cell_type": "code",
      "source": [
        "import numpy as np\n",
        "import pandas as pd"
      ],
      "metadata": {
        "id": "ntedJoDLEUGq"
      },
      "execution_count": 47,
      "outputs": []
    },
    {
      "cell_type": "code",
      "source": [
        "breaches = pd.read_csv(\"https://raw.githubusercontent.com/goyal-pranav/ESAP-final-project/main/breach_report.csv\")"
      ],
      "metadata": {
        "id": "iFeSv80JEHAJ"
      },
      "execution_count": 48,
      "outputs": []
    },
    {
      "cell_type": "code",
      "source": [
        "breaches.head()"
      ],
      "metadata": {
        "colab": {
          "base_uri": "https://localhost:8080/",
          "height": 350
        },
        "id": "8U5mqZQa8reI",
        "outputId": "883a0c7f-d45d-4b8b-de02-b51015008a01"
      },
      "execution_count": 49,
      "outputs": [
        {
          "output_type": "execute_result",
          "data": {
            "text/plain": [
              "                              Name of Covered Entity State  \\\n",
              "0                   Cavender Stores, Ltd Health Plan    TX   \n",
              "1      Acts Retirement Services, Inc. and Affiliates    PA   \n",
              "2                          OPEN ARMS ASSISTED LIVING    WI   \n",
              "3  Mary Hitchcock Memorial Hospital d/b/a Dartmou...    NH   \n",
              "4                                      Benson Health    NC   \n",
              "\n",
              "   Covered Entity Type  Individuals Affected Breach Submission Date  \\\n",
              "0          Health Plan                  4447             07/20/2022   \n",
              "1  Healthcare Provider                  2236             07/15/2022   \n",
              "2   Business Associate                  6000             07/15/2022   \n",
              "3  Healthcare Provider                  1201             07/15/2022   \n",
              "4  Healthcare Provider                 28913             07/15/2022   \n",
              "\n",
              "                   Type of Breach  Location of Breached Information  \\\n",
              "0             Hacking/IT Incident                    Network Server   \n",
              "1             Hacking/IT Incident                    Network Server   \n",
              "2  Unauthorized Access/Disclosure  Other Portable Electronic Device   \n",
              "3                            Loss                            Laptop   \n",
              "4             Hacking/IT Incident                    Network Server   \n",
              "\n",
              "  Business Associate Present  Web Description  \n",
              "0                         No              NaN  \n",
              "1                         No              NaN  \n",
              "2                        Yes              NaN  \n",
              "3                         No              NaN  \n",
              "4                         No              NaN  "
            ],
            "text/html": [
              "\n",
              "  <div id=\"df-5d5c5b7c-beb1-4b3e-a0ab-8388df38213e\">\n",
              "    <div class=\"colab-df-container\">\n",
              "      <div>\n",
              "<style scoped>\n",
              "    .dataframe tbody tr th:only-of-type {\n",
              "        vertical-align: middle;\n",
              "    }\n",
              "\n",
              "    .dataframe tbody tr th {\n",
              "        vertical-align: top;\n",
              "    }\n",
              "\n",
              "    .dataframe thead th {\n",
              "        text-align: right;\n",
              "    }\n",
              "</style>\n",
              "<table border=\"1\" class=\"dataframe\">\n",
              "  <thead>\n",
              "    <tr style=\"text-align: right;\">\n",
              "      <th></th>\n",
              "      <th>Name of Covered Entity</th>\n",
              "      <th>State</th>\n",
              "      <th>Covered Entity Type</th>\n",
              "      <th>Individuals Affected</th>\n",
              "      <th>Breach Submission Date</th>\n",
              "      <th>Type of Breach</th>\n",
              "      <th>Location of Breached Information</th>\n",
              "      <th>Business Associate Present</th>\n",
              "      <th>Web Description</th>\n",
              "    </tr>\n",
              "  </thead>\n",
              "  <tbody>\n",
              "    <tr>\n",
              "      <th>0</th>\n",
              "      <td>Cavender Stores, Ltd Health Plan</td>\n",
              "      <td>TX</td>\n",
              "      <td>Health Plan</td>\n",
              "      <td>4447</td>\n",
              "      <td>07/20/2022</td>\n",
              "      <td>Hacking/IT Incident</td>\n",
              "      <td>Network Server</td>\n",
              "      <td>No</td>\n",
              "      <td>NaN</td>\n",
              "    </tr>\n",
              "    <tr>\n",
              "      <th>1</th>\n",
              "      <td>Acts Retirement Services, Inc. and Affiliates</td>\n",
              "      <td>PA</td>\n",
              "      <td>Healthcare Provider</td>\n",
              "      <td>2236</td>\n",
              "      <td>07/15/2022</td>\n",
              "      <td>Hacking/IT Incident</td>\n",
              "      <td>Network Server</td>\n",
              "      <td>No</td>\n",
              "      <td>NaN</td>\n",
              "    </tr>\n",
              "    <tr>\n",
              "      <th>2</th>\n",
              "      <td>OPEN ARMS ASSISTED LIVING</td>\n",
              "      <td>WI</td>\n",
              "      <td>Business Associate</td>\n",
              "      <td>6000</td>\n",
              "      <td>07/15/2022</td>\n",
              "      <td>Unauthorized Access/Disclosure</td>\n",
              "      <td>Other Portable Electronic Device</td>\n",
              "      <td>Yes</td>\n",
              "      <td>NaN</td>\n",
              "    </tr>\n",
              "    <tr>\n",
              "      <th>3</th>\n",
              "      <td>Mary Hitchcock Memorial Hospital d/b/a Dartmou...</td>\n",
              "      <td>NH</td>\n",
              "      <td>Healthcare Provider</td>\n",
              "      <td>1201</td>\n",
              "      <td>07/15/2022</td>\n",
              "      <td>Loss</td>\n",
              "      <td>Laptop</td>\n",
              "      <td>No</td>\n",
              "      <td>NaN</td>\n",
              "    </tr>\n",
              "    <tr>\n",
              "      <th>4</th>\n",
              "      <td>Benson Health</td>\n",
              "      <td>NC</td>\n",
              "      <td>Healthcare Provider</td>\n",
              "      <td>28913</td>\n",
              "      <td>07/15/2022</td>\n",
              "      <td>Hacking/IT Incident</td>\n",
              "      <td>Network Server</td>\n",
              "      <td>No</td>\n",
              "      <td>NaN</td>\n",
              "    </tr>\n",
              "  </tbody>\n",
              "</table>\n",
              "</div>\n",
              "      <button class=\"colab-df-convert\" onclick=\"convertToInteractive('df-5d5c5b7c-beb1-4b3e-a0ab-8388df38213e')\"\n",
              "              title=\"Convert this dataframe to an interactive table.\"\n",
              "              style=\"display:none;\">\n",
              "        \n",
              "  <svg xmlns=\"http://www.w3.org/2000/svg\" height=\"24px\"viewBox=\"0 0 24 24\"\n",
              "       width=\"24px\">\n",
              "    <path d=\"M0 0h24v24H0V0z\" fill=\"none\"/>\n",
              "    <path d=\"M18.56 5.44l.94 2.06.94-2.06 2.06-.94-2.06-.94-.94-2.06-.94 2.06-2.06.94zm-11 1L8.5 8.5l.94-2.06 2.06-.94-2.06-.94L8.5 2.5l-.94 2.06-2.06.94zm10 10l.94 2.06.94-2.06 2.06-.94-2.06-.94-.94-2.06-.94 2.06-2.06.94z\"/><path d=\"M17.41 7.96l-1.37-1.37c-.4-.4-.92-.59-1.43-.59-.52 0-1.04.2-1.43.59L10.3 9.45l-7.72 7.72c-.78.78-.78 2.05 0 2.83L4 21.41c.39.39.9.59 1.41.59.51 0 1.02-.2 1.41-.59l7.78-7.78 2.81-2.81c.8-.78.8-2.07 0-2.86zM5.41 20L4 18.59l7.72-7.72 1.47 1.35L5.41 20z\"/>\n",
              "  </svg>\n",
              "      </button>\n",
              "      \n",
              "  <style>\n",
              "    .colab-df-container {\n",
              "      display:flex;\n",
              "      flex-wrap:wrap;\n",
              "      gap: 12px;\n",
              "    }\n",
              "\n",
              "    .colab-df-convert {\n",
              "      background-color: #E8F0FE;\n",
              "      border: none;\n",
              "      border-radius: 50%;\n",
              "      cursor: pointer;\n",
              "      display: none;\n",
              "      fill: #1967D2;\n",
              "      height: 32px;\n",
              "      padding: 0 0 0 0;\n",
              "      width: 32px;\n",
              "    }\n",
              "\n",
              "    .colab-df-convert:hover {\n",
              "      background-color: #E2EBFA;\n",
              "      box-shadow: 0px 1px 2px rgba(60, 64, 67, 0.3), 0px 1px 3px 1px rgba(60, 64, 67, 0.15);\n",
              "      fill: #174EA6;\n",
              "    }\n",
              "\n",
              "    [theme=dark] .colab-df-convert {\n",
              "      background-color: #3B4455;\n",
              "      fill: #D2E3FC;\n",
              "    }\n",
              "\n",
              "    [theme=dark] .colab-df-convert:hover {\n",
              "      background-color: #434B5C;\n",
              "      box-shadow: 0px 1px 3px 1px rgba(0, 0, 0, 0.15);\n",
              "      filter: drop-shadow(0px 1px 2px rgba(0, 0, 0, 0.3));\n",
              "      fill: #FFFFFF;\n",
              "    }\n",
              "  </style>\n",
              "\n",
              "      <script>\n",
              "        const buttonEl =\n",
              "          document.querySelector('#df-5d5c5b7c-beb1-4b3e-a0ab-8388df38213e button.colab-df-convert');\n",
              "        buttonEl.style.display =\n",
              "          google.colab.kernel.accessAllowed ? 'block' : 'none';\n",
              "\n",
              "        async function convertToInteractive(key) {\n",
              "          const element = document.querySelector('#df-5d5c5b7c-beb1-4b3e-a0ab-8388df38213e');\n",
              "          const dataTable =\n",
              "            await google.colab.kernel.invokeFunction('convertToInteractive',\n",
              "                                                     [key], {});\n",
              "          if (!dataTable) return;\n",
              "\n",
              "          const docLinkHtml = 'Like what you see? Visit the ' +\n",
              "            '<a target=\"_blank\" href=https://colab.research.google.com/notebooks/data_table.ipynb>data table notebook</a>'\n",
              "            + ' to learn more about interactive tables.';\n",
              "          element.innerHTML = '';\n",
              "          dataTable['output_type'] = 'display_data';\n",
              "          await google.colab.output.renderOutput(dataTable, element);\n",
              "          const docLink = document.createElement('div');\n",
              "          docLink.innerHTML = docLinkHtml;\n",
              "          element.appendChild(docLink);\n",
              "        }\n",
              "      </script>\n",
              "    </div>\n",
              "  </div>\n",
              "  "
            ]
          },
          "metadata": {},
          "execution_count": 49
        }
      ]
    },
    {
      "cell_type": "code",
      "source": [
        "#breaches_clean = breaches.drop([\"State\"], axis = 1)"
      ],
      "metadata": {
        "id": "E0IcxHeKEgse"
      },
      "execution_count": 50,
      "outputs": []
    },
    {
      "cell_type": "code",
      "source": [
        "breaches_clean = breaches.drop([\"Breach Submission Date\"], axis = 1)"
      ],
      "metadata": {
        "id": "K4USUBssErgj"
      },
      "execution_count": 51,
      "outputs": []
    },
    {
      "cell_type": "code",
      "source": [
        "breaches_clean"
      ],
      "metadata": {
        "id": "wXq2P_lrMb7v",
        "colab": {
          "base_uri": "https://localhost:8080/",
          "height": 633
        },
        "outputId": "b646aa38-6482-42a0-8626-ae57216b3218"
      },
      "execution_count": 52,
      "outputs": [
        {
          "output_type": "execute_result",
          "data": {
            "text/plain": [
              "                                Name of Covered Entity State  \\\n",
              "0                     Cavender Stores, Ltd Health Plan    TX   \n",
              "1        Acts Retirement Services, Inc. and Affiliates    PA   \n",
              "2                            OPEN ARMS ASSISTED LIVING    WI   \n",
              "3    Mary Hitchcock Memorial Hospital d/b/a Dartmou...    NH   \n",
              "4                                        Benson Health    NC   \n",
              "..                                                 ...   ...   \n",
              "900                            Advocate Aurora Health     WI   \n",
              "901                           Dynasplint Systems, Inc.    MD   \n",
              "902                          Summit Medical Associates    IN   \n",
              "903           Freeport Regional Health Care Foundation    IL   \n",
              "904                    Muskingum Valley Health Centers    OH   \n",
              "\n",
              "     Covered Entity Type  Individuals Affected  \\\n",
              "0            Health Plan                  4447   \n",
              "1    Healthcare Provider                  2236   \n",
              "2     Business Associate                  6000   \n",
              "3    Healthcare Provider                  1201   \n",
              "4    Healthcare Provider                 28913   \n",
              "..                   ...                   ...   \n",
              "900  Healthcare Provider                  1907   \n",
              "901  Healthcare Provider                102800   \n",
              "902  Healthcare Provider                  7264   \n",
              "903  Healthcare Provider                  4120   \n",
              "904  Healthcare Provider                  7447   \n",
              "\n",
              "                     Type of Breach  \\\n",
              "0               Hacking/IT Incident   \n",
              "1               Hacking/IT Incident   \n",
              "2    Unauthorized Access/Disclosure   \n",
              "3                              Loss   \n",
              "4               Hacking/IT Incident   \n",
              "..                              ...   \n",
              "900  Unauthorized Access/Disclosure   \n",
              "901             Hacking/IT Incident   \n",
              "902             Hacking/IT Incident   \n",
              "903             Hacking/IT Incident   \n",
              "904             Hacking/IT Incident   \n",
              "\n",
              "              Location of Breached Information Business Associate Present  \\\n",
              "0                               Network Server                         No   \n",
              "1                               Network Server                         No   \n",
              "2             Other Portable Electronic Device                        Yes   \n",
              "3                                       Laptop                         No   \n",
              "4                               Network Server                         No   \n",
              "..                                         ...                        ...   \n",
              "900                                Paper/Films                        Yes   \n",
              "901                             Network Server                         No   \n",
              "902                             Network Server                         No   \n",
              "903                                      Email                         No   \n",
              "904  Electronic Medical Record, Network Server                         No   \n",
              "\n",
              "     Web Description  \n",
              "0                NaN  \n",
              "1                NaN  \n",
              "2                NaN  \n",
              "3                NaN  \n",
              "4                NaN  \n",
              "..               ...  \n",
              "900              NaN  \n",
              "901              NaN  \n",
              "902              NaN  \n",
              "903              NaN  \n",
              "904              NaN  \n",
              "\n",
              "[905 rows x 8 columns]"
            ],
            "text/html": [
              "\n",
              "  <div id=\"df-4dad0a9d-131a-4c77-8c65-7cb746f680dc\">\n",
              "    <div class=\"colab-df-container\">\n",
              "      <div>\n",
              "<style scoped>\n",
              "    .dataframe tbody tr th:only-of-type {\n",
              "        vertical-align: middle;\n",
              "    }\n",
              "\n",
              "    .dataframe tbody tr th {\n",
              "        vertical-align: top;\n",
              "    }\n",
              "\n",
              "    .dataframe thead th {\n",
              "        text-align: right;\n",
              "    }\n",
              "</style>\n",
              "<table border=\"1\" class=\"dataframe\">\n",
              "  <thead>\n",
              "    <tr style=\"text-align: right;\">\n",
              "      <th></th>\n",
              "      <th>Name of Covered Entity</th>\n",
              "      <th>State</th>\n",
              "      <th>Covered Entity Type</th>\n",
              "      <th>Individuals Affected</th>\n",
              "      <th>Type of Breach</th>\n",
              "      <th>Location of Breached Information</th>\n",
              "      <th>Business Associate Present</th>\n",
              "      <th>Web Description</th>\n",
              "    </tr>\n",
              "  </thead>\n",
              "  <tbody>\n",
              "    <tr>\n",
              "      <th>0</th>\n",
              "      <td>Cavender Stores, Ltd Health Plan</td>\n",
              "      <td>TX</td>\n",
              "      <td>Health Plan</td>\n",
              "      <td>4447</td>\n",
              "      <td>Hacking/IT Incident</td>\n",
              "      <td>Network Server</td>\n",
              "      <td>No</td>\n",
              "      <td>NaN</td>\n",
              "    </tr>\n",
              "    <tr>\n",
              "      <th>1</th>\n",
              "      <td>Acts Retirement Services, Inc. and Affiliates</td>\n",
              "      <td>PA</td>\n",
              "      <td>Healthcare Provider</td>\n",
              "      <td>2236</td>\n",
              "      <td>Hacking/IT Incident</td>\n",
              "      <td>Network Server</td>\n",
              "      <td>No</td>\n",
              "      <td>NaN</td>\n",
              "    </tr>\n",
              "    <tr>\n",
              "      <th>2</th>\n",
              "      <td>OPEN ARMS ASSISTED LIVING</td>\n",
              "      <td>WI</td>\n",
              "      <td>Business Associate</td>\n",
              "      <td>6000</td>\n",
              "      <td>Unauthorized Access/Disclosure</td>\n",
              "      <td>Other Portable Electronic Device</td>\n",
              "      <td>Yes</td>\n",
              "      <td>NaN</td>\n",
              "    </tr>\n",
              "    <tr>\n",
              "      <th>3</th>\n",
              "      <td>Mary Hitchcock Memorial Hospital d/b/a Dartmou...</td>\n",
              "      <td>NH</td>\n",
              "      <td>Healthcare Provider</td>\n",
              "      <td>1201</td>\n",
              "      <td>Loss</td>\n",
              "      <td>Laptop</td>\n",
              "      <td>No</td>\n",
              "      <td>NaN</td>\n",
              "    </tr>\n",
              "    <tr>\n",
              "      <th>4</th>\n",
              "      <td>Benson Health</td>\n",
              "      <td>NC</td>\n",
              "      <td>Healthcare Provider</td>\n",
              "      <td>28913</td>\n",
              "      <td>Hacking/IT Incident</td>\n",
              "      <td>Network Server</td>\n",
              "      <td>No</td>\n",
              "      <td>NaN</td>\n",
              "    </tr>\n",
              "    <tr>\n",
              "      <th>...</th>\n",
              "      <td>...</td>\n",
              "      <td>...</td>\n",
              "      <td>...</td>\n",
              "      <td>...</td>\n",
              "      <td>...</td>\n",
              "      <td>...</td>\n",
              "      <td>...</td>\n",
              "      <td>...</td>\n",
              "    </tr>\n",
              "    <tr>\n",
              "      <th>900</th>\n",
              "      <td>Advocate Aurora Health</td>\n",
              "      <td>WI</td>\n",
              "      <td>Healthcare Provider</td>\n",
              "      <td>1907</td>\n",
              "      <td>Unauthorized Access/Disclosure</td>\n",
              "      <td>Paper/Films</td>\n",
              "      <td>Yes</td>\n",
              "      <td>NaN</td>\n",
              "    </tr>\n",
              "    <tr>\n",
              "      <th>901</th>\n",
              "      <td>Dynasplint Systems, Inc.</td>\n",
              "      <td>MD</td>\n",
              "      <td>Healthcare Provider</td>\n",
              "      <td>102800</td>\n",
              "      <td>Hacking/IT Incident</td>\n",
              "      <td>Network Server</td>\n",
              "      <td>No</td>\n",
              "      <td>NaN</td>\n",
              "    </tr>\n",
              "    <tr>\n",
              "      <th>902</th>\n",
              "      <td>Summit Medical Associates</td>\n",
              "      <td>IN</td>\n",
              "      <td>Healthcare Provider</td>\n",
              "      <td>7264</td>\n",
              "      <td>Hacking/IT Incident</td>\n",
              "      <td>Network Server</td>\n",
              "      <td>No</td>\n",
              "      <td>NaN</td>\n",
              "    </tr>\n",
              "    <tr>\n",
              "      <th>903</th>\n",
              "      <td>Freeport Regional Health Care Foundation</td>\n",
              "      <td>IL</td>\n",
              "      <td>Healthcare Provider</td>\n",
              "      <td>4120</td>\n",
              "      <td>Hacking/IT Incident</td>\n",
              "      <td>Email</td>\n",
              "      <td>No</td>\n",
              "      <td>NaN</td>\n",
              "    </tr>\n",
              "    <tr>\n",
              "      <th>904</th>\n",
              "      <td>Muskingum Valley Health Centers</td>\n",
              "      <td>OH</td>\n",
              "      <td>Healthcare Provider</td>\n",
              "      <td>7447</td>\n",
              "      <td>Hacking/IT Incident</td>\n",
              "      <td>Electronic Medical Record, Network Server</td>\n",
              "      <td>No</td>\n",
              "      <td>NaN</td>\n",
              "    </tr>\n",
              "  </tbody>\n",
              "</table>\n",
              "<p>905 rows × 8 columns</p>\n",
              "</div>\n",
              "      <button class=\"colab-df-convert\" onclick=\"convertToInteractive('df-4dad0a9d-131a-4c77-8c65-7cb746f680dc')\"\n",
              "              title=\"Convert this dataframe to an interactive table.\"\n",
              "              style=\"display:none;\">\n",
              "        \n",
              "  <svg xmlns=\"http://www.w3.org/2000/svg\" height=\"24px\"viewBox=\"0 0 24 24\"\n",
              "       width=\"24px\">\n",
              "    <path d=\"M0 0h24v24H0V0z\" fill=\"none\"/>\n",
              "    <path d=\"M18.56 5.44l.94 2.06.94-2.06 2.06-.94-2.06-.94-.94-2.06-.94 2.06-2.06.94zm-11 1L8.5 8.5l.94-2.06 2.06-.94-2.06-.94L8.5 2.5l-.94 2.06-2.06.94zm10 10l.94 2.06.94-2.06 2.06-.94-2.06-.94-.94-2.06-.94 2.06-2.06.94z\"/><path d=\"M17.41 7.96l-1.37-1.37c-.4-.4-.92-.59-1.43-.59-.52 0-1.04.2-1.43.59L10.3 9.45l-7.72 7.72c-.78.78-.78 2.05 0 2.83L4 21.41c.39.39.9.59 1.41.59.51 0 1.02-.2 1.41-.59l7.78-7.78 2.81-2.81c.8-.78.8-2.07 0-2.86zM5.41 20L4 18.59l7.72-7.72 1.47 1.35L5.41 20z\"/>\n",
              "  </svg>\n",
              "      </button>\n",
              "      \n",
              "  <style>\n",
              "    .colab-df-container {\n",
              "      display:flex;\n",
              "      flex-wrap:wrap;\n",
              "      gap: 12px;\n",
              "    }\n",
              "\n",
              "    .colab-df-convert {\n",
              "      background-color: #E8F0FE;\n",
              "      border: none;\n",
              "      border-radius: 50%;\n",
              "      cursor: pointer;\n",
              "      display: none;\n",
              "      fill: #1967D2;\n",
              "      height: 32px;\n",
              "      padding: 0 0 0 0;\n",
              "      width: 32px;\n",
              "    }\n",
              "\n",
              "    .colab-df-convert:hover {\n",
              "      background-color: #E2EBFA;\n",
              "      box-shadow: 0px 1px 2px rgba(60, 64, 67, 0.3), 0px 1px 3px 1px rgba(60, 64, 67, 0.15);\n",
              "      fill: #174EA6;\n",
              "    }\n",
              "\n",
              "    [theme=dark] .colab-df-convert {\n",
              "      background-color: #3B4455;\n",
              "      fill: #D2E3FC;\n",
              "    }\n",
              "\n",
              "    [theme=dark] .colab-df-convert:hover {\n",
              "      background-color: #434B5C;\n",
              "      box-shadow: 0px 1px 3px 1px rgba(0, 0, 0, 0.15);\n",
              "      filter: drop-shadow(0px 1px 2px rgba(0, 0, 0, 0.3));\n",
              "      fill: #FFFFFF;\n",
              "    }\n",
              "  </style>\n",
              "\n",
              "      <script>\n",
              "        const buttonEl =\n",
              "          document.querySelector('#df-4dad0a9d-131a-4c77-8c65-7cb746f680dc button.colab-df-convert');\n",
              "        buttonEl.style.display =\n",
              "          google.colab.kernel.accessAllowed ? 'block' : 'none';\n",
              "\n",
              "        async function convertToInteractive(key) {\n",
              "          const element = document.querySelector('#df-4dad0a9d-131a-4c77-8c65-7cb746f680dc');\n",
              "          const dataTable =\n",
              "            await google.colab.kernel.invokeFunction('convertToInteractive',\n",
              "                                                     [key], {});\n",
              "          if (!dataTable) return;\n",
              "\n",
              "          const docLinkHtml = 'Like what you see? Visit the ' +\n",
              "            '<a target=\"_blank\" href=https://colab.research.google.com/notebooks/data_table.ipynb>data table notebook</a>'\n",
              "            + ' to learn more about interactive tables.';\n",
              "          element.innerHTML = '';\n",
              "          dataTable['output_type'] = 'display_data';\n",
              "          await google.colab.output.renderOutput(dataTable, element);\n",
              "          const docLink = document.createElement('div');\n",
              "          docLink.innerHTML = docLinkHtml;\n",
              "          element.appendChild(docLink);\n",
              "        }\n",
              "      </script>\n",
              "    </div>\n",
              "  </div>\n",
              "  "
            ]
          },
          "metadata": {},
          "execution_count": 52
        }
      ]
    },
    {
      "cell_type": "code",
      "source": [
        "breaches_clean = breaches_clean.drop(['Web Description'], axis = 1)"
      ],
      "metadata": {
        "id": "HnCd0HsoE2UZ"
      },
      "execution_count": 53,
      "outputs": []
    },
    {
      "cell_type": "markdown",
      "source": [
        "## Exploring the data"
      ],
      "metadata": {
        "id": "O14-Q8i9WdPD"
      }
    },
    {
      "cell_type": "markdown",
      "source": [
        "Using sorting, groupby etc find out some interesting aspects of the data. Even a short fact counts. For instance, if you were working with population data, you could say that 25% of the world lives in South Asia after you do some group by commands.\n",
        "\n",
        "In this section of your project try to find as many interesting facts as possible. "
      ],
      "metadata": {
        "id": "aVg6JmI_WjC5"
      }
    },
    {
      "cell_type": "code",
      "source": [
        "print(breaches_clean[\"State\"].mode())"
      ],
      "metadata": {
        "colab": {
          "base_uri": "https://localhost:8080/"
        },
        "id": "-Kk_Dm6yE9lG",
        "outputId": "f957a3e0-6df0-448d-c2e0-4d18997bd09f"
      },
      "execution_count": 54,
      "outputs": [
        {
          "output_type": "stream",
          "name": "stdout",
          "text": [
            "0    TX\n",
            "dtype: object\n"
          ]
        }
      ]
    },
    {
      "cell_type": "code",
      "source": [
        "breaches_clean[\"Type of Breach\"].mode()"
      ],
      "metadata": {
        "colab": {
          "base_uri": "https://localhost:8080/"
        },
        "id": "k7o6UJHLIDcG",
        "outputId": "e5bd3497-1b95-4abf-cac5-656bbb7ec162"
      },
      "execution_count": 55,
      "outputs": [
        {
          "output_type": "execute_result",
          "data": {
            "text/plain": [
              "0    Hacking/IT Incident\n",
              "dtype: object"
            ]
          },
          "metadata": {},
          "execution_count": 55
        }
      ]
    },
    {
      "cell_type": "code",
      "source": [
        "grouped_by_type = breaches_clean.groupby(['Type of Breach'], as_index = False).agg(tot_affected = (\"Individuals Affected\", \"sum\"))\n",
        "grouped_by_type"
      ],
      "metadata": {
        "colab": {
          "base_uri": "https://localhost:8080/",
          "height": 204
        },
        "id": "NwbiWED6LF9K",
        "outputId": "f35db1df-ecf5-4524-9379-4b691dce6c16"
      },
      "execution_count": 56,
      "outputs": [
        {
          "output_type": "execute_result",
          "data": {
            "text/plain": [
              "                   Type of Breach  tot_affected\n",
              "0             Hacking/IT Incident      63723520\n",
              "1               Improper Disposal        191220\n",
              "2                            Loss         33089\n",
              "3                           Theft        431252\n",
              "4  Unauthorized Access/Disclosure       3120977"
            ],
            "text/html": [
              "\n",
              "  <div id=\"df-edced99c-bedd-4b36-9974-fe2def8d9c79\">\n",
              "    <div class=\"colab-df-container\">\n",
              "      <div>\n",
              "<style scoped>\n",
              "    .dataframe tbody tr th:only-of-type {\n",
              "        vertical-align: middle;\n",
              "    }\n",
              "\n",
              "    .dataframe tbody tr th {\n",
              "        vertical-align: top;\n",
              "    }\n",
              "\n",
              "    .dataframe thead th {\n",
              "        text-align: right;\n",
              "    }\n",
              "</style>\n",
              "<table border=\"1\" class=\"dataframe\">\n",
              "  <thead>\n",
              "    <tr style=\"text-align: right;\">\n",
              "      <th></th>\n",
              "      <th>Type of Breach</th>\n",
              "      <th>tot_affected</th>\n",
              "    </tr>\n",
              "  </thead>\n",
              "  <tbody>\n",
              "    <tr>\n",
              "      <th>0</th>\n",
              "      <td>Hacking/IT Incident</td>\n",
              "      <td>63723520</td>\n",
              "    </tr>\n",
              "    <tr>\n",
              "      <th>1</th>\n",
              "      <td>Improper Disposal</td>\n",
              "      <td>191220</td>\n",
              "    </tr>\n",
              "    <tr>\n",
              "      <th>2</th>\n",
              "      <td>Loss</td>\n",
              "      <td>33089</td>\n",
              "    </tr>\n",
              "    <tr>\n",
              "      <th>3</th>\n",
              "      <td>Theft</td>\n",
              "      <td>431252</td>\n",
              "    </tr>\n",
              "    <tr>\n",
              "      <th>4</th>\n",
              "      <td>Unauthorized Access/Disclosure</td>\n",
              "      <td>3120977</td>\n",
              "    </tr>\n",
              "  </tbody>\n",
              "</table>\n",
              "</div>\n",
              "      <button class=\"colab-df-convert\" onclick=\"convertToInteractive('df-edced99c-bedd-4b36-9974-fe2def8d9c79')\"\n",
              "              title=\"Convert this dataframe to an interactive table.\"\n",
              "              style=\"display:none;\">\n",
              "        \n",
              "  <svg xmlns=\"http://www.w3.org/2000/svg\" height=\"24px\"viewBox=\"0 0 24 24\"\n",
              "       width=\"24px\">\n",
              "    <path d=\"M0 0h24v24H0V0z\" fill=\"none\"/>\n",
              "    <path d=\"M18.56 5.44l.94 2.06.94-2.06 2.06-.94-2.06-.94-.94-2.06-.94 2.06-2.06.94zm-11 1L8.5 8.5l.94-2.06 2.06-.94-2.06-.94L8.5 2.5l-.94 2.06-2.06.94zm10 10l.94 2.06.94-2.06 2.06-.94-2.06-.94-.94-2.06-.94 2.06-2.06.94z\"/><path d=\"M17.41 7.96l-1.37-1.37c-.4-.4-.92-.59-1.43-.59-.52 0-1.04.2-1.43.59L10.3 9.45l-7.72 7.72c-.78.78-.78 2.05 0 2.83L4 21.41c.39.39.9.59 1.41.59.51 0 1.02-.2 1.41-.59l7.78-7.78 2.81-2.81c.8-.78.8-2.07 0-2.86zM5.41 20L4 18.59l7.72-7.72 1.47 1.35L5.41 20z\"/>\n",
              "  </svg>\n",
              "      </button>\n",
              "      \n",
              "  <style>\n",
              "    .colab-df-container {\n",
              "      display:flex;\n",
              "      flex-wrap:wrap;\n",
              "      gap: 12px;\n",
              "    }\n",
              "\n",
              "    .colab-df-convert {\n",
              "      background-color: #E8F0FE;\n",
              "      border: none;\n",
              "      border-radius: 50%;\n",
              "      cursor: pointer;\n",
              "      display: none;\n",
              "      fill: #1967D2;\n",
              "      height: 32px;\n",
              "      padding: 0 0 0 0;\n",
              "      width: 32px;\n",
              "    }\n",
              "\n",
              "    .colab-df-convert:hover {\n",
              "      background-color: #E2EBFA;\n",
              "      box-shadow: 0px 1px 2px rgba(60, 64, 67, 0.3), 0px 1px 3px 1px rgba(60, 64, 67, 0.15);\n",
              "      fill: #174EA6;\n",
              "    }\n",
              "\n",
              "    [theme=dark] .colab-df-convert {\n",
              "      background-color: #3B4455;\n",
              "      fill: #D2E3FC;\n",
              "    }\n",
              "\n",
              "    [theme=dark] .colab-df-convert:hover {\n",
              "      background-color: #434B5C;\n",
              "      box-shadow: 0px 1px 3px 1px rgba(0, 0, 0, 0.15);\n",
              "      filter: drop-shadow(0px 1px 2px rgba(0, 0, 0, 0.3));\n",
              "      fill: #FFFFFF;\n",
              "    }\n",
              "  </style>\n",
              "\n",
              "      <script>\n",
              "        const buttonEl =\n",
              "          document.querySelector('#df-edced99c-bedd-4b36-9974-fe2def8d9c79 button.colab-df-convert');\n",
              "        buttonEl.style.display =\n",
              "          google.colab.kernel.accessAllowed ? 'block' : 'none';\n",
              "\n",
              "        async function convertToInteractive(key) {\n",
              "          const element = document.querySelector('#df-edced99c-bedd-4b36-9974-fe2def8d9c79');\n",
              "          const dataTable =\n",
              "            await google.colab.kernel.invokeFunction('convertToInteractive',\n",
              "                                                     [key], {});\n",
              "          if (!dataTable) return;\n",
              "\n",
              "          const docLinkHtml = 'Like what you see? Visit the ' +\n",
              "            '<a target=\"_blank\" href=https://colab.research.google.com/notebooks/data_table.ipynb>data table notebook</a>'\n",
              "            + ' to learn more about interactive tables.';\n",
              "          element.innerHTML = '';\n",
              "          dataTable['output_type'] = 'display_data';\n",
              "          await google.colab.output.renderOutput(dataTable, element);\n",
              "          const docLink = document.createElement('div');\n",
              "          docLink.innerHTML = docLinkHtml;\n",
              "          element.appendChild(docLink);\n",
              "        }\n",
              "      </script>\n",
              "    </div>\n",
              "  </div>\n",
              "  "
            ]
          },
          "metadata": {},
          "execution_count": 56
        }
      ]
    },
    {
      "cell_type": "code",
      "source": [
        "breaches_clean[\"Covered Entity Type\"].mode()"
      ],
      "metadata": {
        "colab": {
          "base_uri": "https://localhost:8080/"
        },
        "id": "-RkYLkCrQOmU",
        "outputId": "96b46696-f712-4e1a-a4a6-41fb6f0bcf8d"
      },
      "execution_count": 57,
      "outputs": [
        {
          "output_type": "execute_result",
          "data": {
            "text/plain": [
              "0    Healthcare Provider\n",
              "dtype: object"
            ]
          },
          "metadata": {},
          "execution_count": 57
        }
      ]
    },
    {
      "cell_type": "code",
      "source": [
        "breaches_clean[\"Business Associate Present\"].mode()"
      ],
      "metadata": {
        "colab": {
          "base_uri": "https://localhost:8080/"
        },
        "id": "vnkRyC7bQYFH",
        "outputId": "3b6560e4-6dc9-4669-cf6d-9039c867c5b0"
      },
      "execution_count": 58,
      "outputs": [
        {
          "output_type": "execute_result",
          "data": {
            "text/plain": [
              "0    No\n",
              "dtype: object"
            ]
          },
          "metadata": {},
          "execution_count": 58
        }
      ]
    },
    {
      "cell_type": "code",
      "source": [
        "num_No = breaches_clean['Business Associate Present'].value_counts()[\"No\"]"
      ],
      "metadata": {
        "id": "OPYuoYymQsKM"
      },
      "execution_count": 59,
      "outputs": []
    },
    {
      "cell_type": "code",
      "source": [
        "num_No"
      ],
      "metadata": {
        "colab": {
          "base_uri": "https://localhost:8080/"
        },
        "id": "Tw4DqDxxR3z3",
        "outputId": "c31ef215-2377-4c64-9e9c-4b6368393973"
      },
      "execution_count": 60,
      "outputs": [
        {
          "output_type": "execute_result",
          "data": {
            "text/plain": [
              "626"
            ]
          },
          "metadata": {},
          "execution_count": 60
        }
      ]
    },
    {
      "cell_type": "markdown",
      "metadata": {
        "id": "7NlMtixKy3vC"
      },
      "source": [
        "# Visualizations "
      ]
    },
    {
      "cell_type": "code",
      "source": [
        "import numpy as np\n",
        "import pandas as pd\n",
        "import matplotlib.pyplot as plt\n",
        "import matplotlib as mpl"
      ],
      "metadata": {
        "id": "RtEUzsEsF8Eb"
      },
      "execution_count": 61,
      "outputs": []
    },
    {
      "cell_type": "code",
      "source": [
        "breaches_clean"
      ],
      "metadata": {
        "id": "7vfCLB6_5F-6",
        "colab": {
          "base_uri": "https://localhost:8080/",
          "height": 548
        },
        "outputId": "e45709c6-8a7e-43f9-ab4d-dd5dae7a0330"
      },
      "execution_count": 62,
      "outputs": [
        {
          "output_type": "execute_result",
          "data": {
            "text/plain": [
              "                                Name of Covered Entity State  \\\n",
              "0                     Cavender Stores, Ltd Health Plan    TX   \n",
              "1        Acts Retirement Services, Inc. and Affiliates    PA   \n",
              "2                            OPEN ARMS ASSISTED LIVING    WI   \n",
              "3    Mary Hitchcock Memorial Hospital d/b/a Dartmou...    NH   \n",
              "4                                        Benson Health    NC   \n",
              "..                                                 ...   ...   \n",
              "900                            Advocate Aurora Health     WI   \n",
              "901                           Dynasplint Systems, Inc.    MD   \n",
              "902                          Summit Medical Associates    IN   \n",
              "903           Freeport Regional Health Care Foundation    IL   \n",
              "904                    Muskingum Valley Health Centers    OH   \n",
              "\n",
              "     Covered Entity Type  Individuals Affected  \\\n",
              "0            Health Plan                  4447   \n",
              "1    Healthcare Provider                  2236   \n",
              "2     Business Associate                  6000   \n",
              "3    Healthcare Provider                  1201   \n",
              "4    Healthcare Provider                 28913   \n",
              "..                   ...                   ...   \n",
              "900  Healthcare Provider                  1907   \n",
              "901  Healthcare Provider                102800   \n",
              "902  Healthcare Provider                  7264   \n",
              "903  Healthcare Provider                  4120   \n",
              "904  Healthcare Provider                  7447   \n",
              "\n",
              "                     Type of Breach  \\\n",
              "0               Hacking/IT Incident   \n",
              "1               Hacking/IT Incident   \n",
              "2    Unauthorized Access/Disclosure   \n",
              "3                              Loss   \n",
              "4               Hacking/IT Incident   \n",
              "..                              ...   \n",
              "900  Unauthorized Access/Disclosure   \n",
              "901             Hacking/IT Incident   \n",
              "902             Hacking/IT Incident   \n",
              "903             Hacking/IT Incident   \n",
              "904             Hacking/IT Incident   \n",
              "\n",
              "              Location of Breached Information Business Associate Present  \n",
              "0                               Network Server                         No  \n",
              "1                               Network Server                         No  \n",
              "2             Other Portable Electronic Device                        Yes  \n",
              "3                                       Laptop                         No  \n",
              "4                               Network Server                         No  \n",
              "..                                         ...                        ...  \n",
              "900                                Paper/Films                        Yes  \n",
              "901                             Network Server                         No  \n",
              "902                             Network Server                         No  \n",
              "903                                      Email                         No  \n",
              "904  Electronic Medical Record, Network Server                         No  \n",
              "\n",
              "[905 rows x 7 columns]"
            ],
            "text/html": [
              "\n",
              "  <div id=\"df-3bb9d6e6-76da-4f19-a520-3b9fb3ff119f\">\n",
              "    <div class=\"colab-df-container\">\n",
              "      <div>\n",
              "<style scoped>\n",
              "    .dataframe tbody tr th:only-of-type {\n",
              "        vertical-align: middle;\n",
              "    }\n",
              "\n",
              "    .dataframe tbody tr th {\n",
              "        vertical-align: top;\n",
              "    }\n",
              "\n",
              "    .dataframe thead th {\n",
              "        text-align: right;\n",
              "    }\n",
              "</style>\n",
              "<table border=\"1\" class=\"dataframe\">\n",
              "  <thead>\n",
              "    <tr style=\"text-align: right;\">\n",
              "      <th></th>\n",
              "      <th>Name of Covered Entity</th>\n",
              "      <th>State</th>\n",
              "      <th>Covered Entity Type</th>\n",
              "      <th>Individuals Affected</th>\n",
              "      <th>Type of Breach</th>\n",
              "      <th>Location of Breached Information</th>\n",
              "      <th>Business Associate Present</th>\n",
              "    </tr>\n",
              "  </thead>\n",
              "  <tbody>\n",
              "    <tr>\n",
              "      <th>0</th>\n",
              "      <td>Cavender Stores, Ltd Health Plan</td>\n",
              "      <td>TX</td>\n",
              "      <td>Health Plan</td>\n",
              "      <td>4447</td>\n",
              "      <td>Hacking/IT Incident</td>\n",
              "      <td>Network Server</td>\n",
              "      <td>No</td>\n",
              "    </tr>\n",
              "    <tr>\n",
              "      <th>1</th>\n",
              "      <td>Acts Retirement Services, Inc. and Affiliates</td>\n",
              "      <td>PA</td>\n",
              "      <td>Healthcare Provider</td>\n",
              "      <td>2236</td>\n",
              "      <td>Hacking/IT Incident</td>\n",
              "      <td>Network Server</td>\n",
              "      <td>No</td>\n",
              "    </tr>\n",
              "    <tr>\n",
              "      <th>2</th>\n",
              "      <td>OPEN ARMS ASSISTED LIVING</td>\n",
              "      <td>WI</td>\n",
              "      <td>Business Associate</td>\n",
              "      <td>6000</td>\n",
              "      <td>Unauthorized Access/Disclosure</td>\n",
              "      <td>Other Portable Electronic Device</td>\n",
              "      <td>Yes</td>\n",
              "    </tr>\n",
              "    <tr>\n",
              "      <th>3</th>\n",
              "      <td>Mary Hitchcock Memorial Hospital d/b/a Dartmou...</td>\n",
              "      <td>NH</td>\n",
              "      <td>Healthcare Provider</td>\n",
              "      <td>1201</td>\n",
              "      <td>Loss</td>\n",
              "      <td>Laptop</td>\n",
              "      <td>No</td>\n",
              "    </tr>\n",
              "    <tr>\n",
              "      <th>4</th>\n",
              "      <td>Benson Health</td>\n",
              "      <td>NC</td>\n",
              "      <td>Healthcare Provider</td>\n",
              "      <td>28913</td>\n",
              "      <td>Hacking/IT Incident</td>\n",
              "      <td>Network Server</td>\n",
              "      <td>No</td>\n",
              "    </tr>\n",
              "    <tr>\n",
              "      <th>...</th>\n",
              "      <td>...</td>\n",
              "      <td>...</td>\n",
              "      <td>...</td>\n",
              "      <td>...</td>\n",
              "      <td>...</td>\n",
              "      <td>...</td>\n",
              "      <td>...</td>\n",
              "    </tr>\n",
              "    <tr>\n",
              "      <th>900</th>\n",
              "      <td>Advocate Aurora Health</td>\n",
              "      <td>WI</td>\n",
              "      <td>Healthcare Provider</td>\n",
              "      <td>1907</td>\n",
              "      <td>Unauthorized Access/Disclosure</td>\n",
              "      <td>Paper/Films</td>\n",
              "      <td>Yes</td>\n",
              "    </tr>\n",
              "    <tr>\n",
              "      <th>901</th>\n",
              "      <td>Dynasplint Systems, Inc.</td>\n",
              "      <td>MD</td>\n",
              "      <td>Healthcare Provider</td>\n",
              "      <td>102800</td>\n",
              "      <td>Hacking/IT Incident</td>\n",
              "      <td>Network Server</td>\n",
              "      <td>No</td>\n",
              "    </tr>\n",
              "    <tr>\n",
              "      <th>902</th>\n",
              "      <td>Summit Medical Associates</td>\n",
              "      <td>IN</td>\n",
              "      <td>Healthcare Provider</td>\n",
              "      <td>7264</td>\n",
              "      <td>Hacking/IT Incident</td>\n",
              "      <td>Network Server</td>\n",
              "      <td>No</td>\n",
              "    </tr>\n",
              "    <tr>\n",
              "      <th>903</th>\n",
              "      <td>Freeport Regional Health Care Foundation</td>\n",
              "      <td>IL</td>\n",
              "      <td>Healthcare Provider</td>\n",
              "      <td>4120</td>\n",
              "      <td>Hacking/IT Incident</td>\n",
              "      <td>Email</td>\n",
              "      <td>No</td>\n",
              "    </tr>\n",
              "    <tr>\n",
              "      <th>904</th>\n",
              "      <td>Muskingum Valley Health Centers</td>\n",
              "      <td>OH</td>\n",
              "      <td>Healthcare Provider</td>\n",
              "      <td>7447</td>\n",
              "      <td>Hacking/IT Incident</td>\n",
              "      <td>Electronic Medical Record, Network Server</td>\n",
              "      <td>No</td>\n",
              "    </tr>\n",
              "  </tbody>\n",
              "</table>\n",
              "<p>905 rows × 7 columns</p>\n",
              "</div>\n",
              "      <button class=\"colab-df-convert\" onclick=\"convertToInteractive('df-3bb9d6e6-76da-4f19-a520-3b9fb3ff119f')\"\n",
              "              title=\"Convert this dataframe to an interactive table.\"\n",
              "              style=\"display:none;\">\n",
              "        \n",
              "  <svg xmlns=\"http://www.w3.org/2000/svg\" height=\"24px\"viewBox=\"0 0 24 24\"\n",
              "       width=\"24px\">\n",
              "    <path d=\"M0 0h24v24H0V0z\" fill=\"none\"/>\n",
              "    <path d=\"M18.56 5.44l.94 2.06.94-2.06 2.06-.94-2.06-.94-.94-2.06-.94 2.06-2.06.94zm-11 1L8.5 8.5l.94-2.06 2.06-.94-2.06-.94L8.5 2.5l-.94 2.06-2.06.94zm10 10l.94 2.06.94-2.06 2.06-.94-2.06-.94-.94-2.06-.94 2.06-2.06.94z\"/><path d=\"M17.41 7.96l-1.37-1.37c-.4-.4-.92-.59-1.43-.59-.52 0-1.04.2-1.43.59L10.3 9.45l-7.72 7.72c-.78.78-.78 2.05 0 2.83L4 21.41c.39.39.9.59 1.41.59.51 0 1.02-.2 1.41-.59l7.78-7.78 2.81-2.81c.8-.78.8-2.07 0-2.86zM5.41 20L4 18.59l7.72-7.72 1.47 1.35L5.41 20z\"/>\n",
              "  </svg>\n",
              "      </button>\n",
              "      \n",
              "  <style>\n",
              "    .colab-df-container {\n",
              "      display:flex;\n",
              "      flex-wrap:wrap;\n",
              "      gap: 12px;\n",
              "    }\n",
              "\n",
              "    .colab-df-convert {\n",
              "      background-color: #E8F0FE;\n",
              "      border: none;\n",
              "      border-radius: 50%;\n",
              "      cursor: pointer;\n",
              "      display: none;\n",
              "      fill: #1967D2;\n",
              "      height: 32px;\n",
              "      padding: 0 0 0 0;\n",
              "      width: 32px;\n",
              "    }\n",
              "\n",
              "    .colab-df-convert:hover {\n",
              "      background-color: #E2EBFA;\n",
              "      box-shadow: 0px 1px 2px rgba(60, 64, 67, 0.3), 0px 1px 3px 1px rgba(60, 64, 67, 0.15);\n",
              "      fill: #174EA6;\n",
              "    }\n",
              "\n",
              "    [theme=dark] .colab-df-convert {\n",
              "      background-color: #3B4455;\n",
              "      fill: #D2E3FC;\n",
              "    }\n",
              "\n",
              "    [theme=dark] .colab-df-convert:hover {\n",
              "      background-color: #434B5C;\n",
              "      box-shadow: 0px 1px 3px 1px rgba(0, 0, 0, 0.15);\n",
              "      filter: drop-shadow(0px 1px 2px rgba(0, 0, 0, 0.3));\n",
              "      fill: #FFFFFF;\n",
              "    }\n",
              "  </style>\n",
              "\n",
              "      <script>\n",
              "        const buttonEl =\n",
              "          document.querySelector('#df-3bb9d6e6-76da-4f19-a520-3b9fb3ff119f button.colab-df-convert');\n",
              "        buttonEl.style.display =\n",
              "          google.colab.kernel.accessAllowed ? 'block' : 'none';\n",
              "\n",
              "        async function convertToInteractive(key) {\n",
              "          const element = document.querySelector('#df-3bb9d6e6-76da-4f19-a520-3b9fb3ff119f');\n",
              "          const dataTable =\n",
              "            await google.colab.kernel.invokeFunction('convertToInteractive',\n",
              "                                                     [key], {});\n",
              "          if (!dataTable) return;\n",
              "\n",
              "          const docLinkHtml = 'Like what you see? Visit the ' +\n",
              "            '<a target=\"_blank\" href=https://colab.research.google.com/notebooks/data_table.ipynb>data table notebook</a>'\n",
              "            + ' to learn more about interactive tables.';\n",
              "          element.innerHTML = '';\n",
              "          dataTable['output_type'] = 'display_data';\n",
              "          await google.colab.output.renderOutput(dataTable, element);\n",
              "          const docLink = document.createElement('div');\n",
              "          docLink.innerHTML = docLinkHtml;\n",
              "          element.appendChild(docLink);\n",
              "        }\n",
              "      </script>\n",
              "    </div>\n",
              "  </div>\n",
              "  "
            ]
          },
          "metadata": {},
          "execution_count": 62
        }
      ]
    },
    {
      "cell_type": "markdown",
      "metadata": {
        "id": "uDt8HFa3y3vC"
      },
      "source": [
        "Make at least 6 visualizations (if this number is unreasonable please talk to your mentoring TA before reducing it) that reveal something interesting about the data. Try to include at least one scatterplot and one histogram/bar graph (again, if the data does not lend itself to these plots do let us know"
      ]
    },
    {
      "cell_type": "markdown",
      "metadata": {
        "id": "E9Vi1bXhy3vD"
      },
      "source": [
        "Make sure that your visualizations\n",
        "1. Have things like the axes, titles, units etc\n",
        "2. Are telling a slightly interesting story. Interesting = something a person who has not seen this data might not be able to just guess."
      ]
    },
    {
      "cell_type": "markdown",
      "metadata": {
        "id": "g0cDLpQby3vD"
      },
      "source": [
        "Write a few lines telling us what your visualization represents and what it reveals. Discuss any potential hypotheses that could result from these visualizations."
      ]
    },
    {
      "cell_type": "markdown",
      "metadata": {
        "id": "8aXqumDvy3vD"
      },
      "source": [
        "_Write your answer in this markdown cell._"
      ]
    },
    {
      "cell_type": "markdown",
      "source": [
        "A business associate, as defined by the HHS is:\n",
        "a person or entity, other than a member of the workforce of a covered entity, who performs functions or activities on behalf of, or provides certain services to, a covered entity that involve access by the business associate to protected health information.  A “business associate” also is a subcontractor that creates, receives, maintains, or transmits protected health information on behalf of another business associate.\n",
        "\n",
        "We will now analyse whether the presence of a business associate affects the number of data breaches"
      ],
      "metadata": {
        "id": "GRxO4oWgI5sv"
      }
    },
    {
      "cell_type": "code",
      "source": [
        "breaches_clean_Aanika = breaches.drop(['Web Description'], axis = 1)"
      ],
      "metadata": {
        "id": "RNI7W0wk6lEE"
      },
      "execution_count": 63,
      "outputs": []
    },
    {
      "cell_type": "code",
      "source": [
        "pie_chart = breaches_clean_Aanika.groupby(\"Business Associate Present\", as_index = True).count()['Name of Covered Entity'].reset_index()"
      ],
      "metadata": {
        "id": "2FOGusFx5VDL"
      },
      "execution_count": 64,
      "outputs": []
    },
    {
      "cell_type": "code",
      "source": [
        "pie_chart.head()"
      ],
      "metadata": {
        "id": "5jPFq-Lo5XG0",
        "colab": {
          "base_uri": "https://localhost:8080/",
          "height": 111
        },
        "outputId": "b086c20f-f3f0-41b4-82b7-62b6bc0ffd1e"
      },
      "execution_count": 65,
      "outputs": [
        {
          "output_type": "execute_result",
          "data": {
            "text/plain": [
              "  Business Associate Present  Name of Covered Entity\n",
              "0                         No                     626\n",
              "1                        Yes                     279"
            ],
            "text/html": [
              "\n",
              "  <div id=\"df-9e75c26a-effa-4f9b-bc3f-b4991775c390\">\n",
              "    <div class=\"colab-df-container\">\n",
              "      <div>\n",
              "<style scoped>\n",
              "    .dataframe tbody tr th:only-of-type {\n",
              "        vertical-align: middle;\n",
              "    }\n",
              "\n",
              "    .dataframe tbody tr th {\n",
              "        vertical-align: top;\n",
              "    }\n",
              "\n",
              "    .dataframe thead th {\n",
              "        text-align: right;\n",
              "    }\n",
              "</style>\n",
              "<table border=\"1\" class=\"dataframe\">\n",
              "  <thead>\n",
              "    <tr style=\"text-align: right;\">\n",
              "      <th></th>\n",
              "      <th>Business Associate Present</th>\n",
              "      <th>Name of Covered Entity</th>\n",
              "    </tr>\n",
              "  </thead>\n",
              "  <tbody>\n",
              "    <tr>\n",
              "      <th>0</th>\n",
              "      <td>No</td>\n",
              "      <td>626</td>\n",
              "    </tr>\n",
              "    <tr>\n",
              "      <th>1</th>\n",
              "      <td>Yes</td>\n",
              "      <td>279</td>\n",
              "    </tr>\n",
              "  </tbody>\n",
              "</table>\n",
              "</div>\n",
              "      <button class=\"colab-df-convert\" onclick=\"convertToInteractive('df-9e75c26a-effa-4f9b-bc3f-b4991775c390')\"\n",
              "              title=\"Convert this dataframe to an interactive table.\"\n",
              "              style=\"display:none;\">\n",
              "        \n",
              "  <svg xmlns=\"http://www.w3.org/2000/svg\" height=\"24px\"viewBox=\"0 0 24 24\"\n",
              "       width=\"24px\">\n",
              "    <path d=\"M0 0h24v24H0V0z\" fill=\"none\"/>\n",
              "    <path d=\"M18.56 5.44l.94 2.06.94-2.06 2.06-.94-2.06-.94-.94-2.06-.94 2.06-2.06.94zm-11 1L8.5 8.5l.94-2.06 2.06-.94-2.06-.94L8.5 2.5l-.94 2.06-2.06.94zm10 10l.94 2.06.94-2.06 2.06-.94-2.06-.94-.94-2.06-.94 2.06-2.06.94z\"/><path d=\"M17.41 7.96l-1.37-1.37c-.4-.4-.92-.59-1.43-.59-.52 0-1.04.2-1.43.59L10.3 9.45l-7.72 7.72c-.78.78-.78 2.05 0 2.83L4 21.41c.39.39.9.59 1.41.59.51 0 1.02-.2 1.41-.59l7.78-7.78 2.81-2.81c.8-.78.8-2.07 0-2.86zM5.41 20L4 18.59l7.72-7.72 1.47 1.35L5.41 20z\"/>\n",
              "  </svg>\n",
              "      </button>\n",
              "      \n",
              "  <style>\n",
              "    .colab-df-container {\n",
              "      display:flex;\n",
              "      flex-wrap:wrap;\n",
              "      gap: 12px;\n",
              "    }\n",
              "\n",
              "    .colab-df-convert {\n",
              "      background-color: #E8F0FE;\n",
              "      border: none;\n",
              "      border-radius: 50%;\n",
              "      cursor: pointer;\n",
              "      display: none;\n",
              "      fill: #1967D2;\n",
              "      height: 32px;\n",
              "      padding: 0 0 0 0;\n",
              "      width: 32px;\n",
              "    }\n",
              "\n",
              "    .colab-df-convert:hover {\n",
              "      background-color: #E2EBFA;\n",
              "      box-shadow: 0px 1px 2px rgba(60, 64, 67, 0.3), 0px 1px 3px 1px rgba(60, 64, 67, 0.15);\n",
              "      fill: #174EA6;\n",
              "    }\n",
              "\n",
              "    [theme=dark] .colab-df-convert {\n",
              "      background-color: #3B4455;\n",
              "      fill: #D2E3FC;\n",
              "    }\n",
              "\n",
              "    [theme=dark] .colab-df-convert:hover {\n",
              "      background-color: #434B5C;\n",
              "      box-shadow: 0px 1px 3px 1px rgba(0, 0, 0, 0.15);\n",
              "      filter: drop-shadow(0px 1px 2px rgba(0, 0, 0, 0.3));\n",
              "      fill: #FFFFFF;\n",
              "    }\n",
              "  </style>\n",
              "\n",
              "      <script>\n",
              "        const buttonEl =\n",
              "          document.querySelector('#df-9e75c26a-effa-4f9b-bc3f-b4991775c390 button.colab-df-convert');\n",
              "        buttonEl.style.display =\n",
              "          google.colab.kernel.accessAllowed ? 'block' : 'none';\n",
              "\n",
              "        async function convertToInteractive(key) {\n",
              "          const element = document.querySelector('#df-9e75c26a-effa-4f9b-bc3f-b4991775c390');\n",
              "          const dataTable =\n",
              "            await google.colab.kernel.invokeFunction('convertToInteractive',\n",
              "                                                     [key], {});\n",
              "          if (!dataTable) return;\n",
              "\n",
              "          const docLinkHtml = 'Like what you see? Visit the ' +\n",
              "            '<a target=\"_blank\" href=https://colab.research.google.com/notebooks/data_table.ipynb>data table notebook</a>'\n",
              "            + ' to learn more about interactive tables.';\n",
              "          element.innerHTML = '';\n",
              "          dataTable['output_type'] = 'display_data';\n",
              "          await google.colab.output.renderOutput(dataTable, element);\n",
              "          const docLink = document.createElement('div');\n",
              "          docLink.innerHTML = docLinkHtml;\n",
              "          element.appendChild(docLink);\n",
              "        }\n",
              "      </script>\n",
              "    </div>\n",
              "  </div>\n",
              "  "
            ]
          },
          "metadata": {},
          "execution_count": 65
        }
      ]
    },
    {
      "cell_type": "code",
      "source": [
        "plt.title(\"How often during a breach was a Business Associate Present\")\n",
        "plt.pie(pie_chart['Name of Covered Entity'], labels=pie_chart['Business Associate Present'])"
      ],
      "metadata": {
        "id": "z6B9_gAi5ZC_",
        "colab": {
          "base_uri": "https://localhost:8080/",
          "height": 278
        },
        "outputId": "4dc5fbc5-ab90-48fa-8374-34c2468d6279"
      },
      "execution_count": 66,
      "outputs": [
        {
          "output_type": "execute_result",
          "data": {
            "text/plain": [
              "([<matplotlib.patches.Wedge at 0x7f1ab3fc2e80>,\n",
              "  <matplotlib.patches.Wedge at 0x7f1ab3fce370>],\n",
              " [Text(-0.6231778917808432, 0.9064487383165052, 'No'),\n",
              "  Text(0.623177806912984, -0.9064487966626266, 'Yes')])"
            ]
          },
          "metadata": {},
          "execution_count": 66
        },
        {
          "output_type": "display_data",
          "data": {
            "text/plain": [
              "<Figure size 1440x216 with 1 Axes>"
            ],
            "image/png": "[encoded data removed]"
          },
          "metadata": {}
        }
      ]
    },
    {
      "cell_type": "code",
      "source": [
        "def func(x):\n",
        "    i = x.split('/')\n",
        "    return '-'.join([i[2], i[0]])"
      ],
      "metadata": {
        "id": "MrmqlTvR5hYJ"
      },
      "execution_count": 67,
      "outputs": []
    },
    {
      "cell_type": "code",
      "source": [
        "breaches_clean_Aanika['Breach Submission Date'] = breaches_clean_Aanika['Breach Submission Date'].apply(lambda x : func(x))"
      ],
      "metadata": {
        "id": "3gSCks2FIWPj"
      },
      "execution_count": 68,
      "outputs": []
    },
    {
      "cell_type": "code",
      "source": [
        "new = breaches_clean_Aanika.sort_values(\"Breach Submission Date\")"
      ],
      "metadata": {
        "id": "bF2Gl7swIZN1"
      },
      "execution_count": 69,
      "outputs": []
    },
    {
      "cell_type": "code",
      "source": [
        "data = new.groupby('Breach Submission Date').sum()['Individuals Affected'][1:-1]"
      ],
      "metadata": {
        "id": "xMXeNRNSIfS6"
      },
      "execution_count": 70,
      "outputs": []
    },
    {
      "cell_type": "code",
      "source": [
        "new"
      ],
      "metadata": {
        "id": "PlVhFXpOIbj4",
        "colab": {
          "base_uri": "https://localhost:8080/",
          "height": 633
        },
        "outputId": "06a30c43-15d0-4ede-ae5c-916bd61a1c67"
      },
      "execution_count": 71,
      "outputs": [
        {
          "output_type": "execute_result",
          "data": {
            "text/plain": [
              "                       Name of Covered Entity State  Covered Entity Type  \\\n",
              "904           Muskingum Valley Health Centers    OH  Healthcare Provider   \n",
              "903  Freeport Regional Health Care Foundation    IL  Healthcare Provider   \n",
              "901                  Dynasplint Systems, Inc.    MD  Healthcare Provider   \n",
              "893     BEACON ORTHOPAEDICS & SPORTS MEDICINE    OH  Healthcare Provider   \n",
              "894                           Assured Imaging    AZ  Healthcare Provider   \n",
              "..                                        ...   ...                  ...   \n",
              "21                    Southwest Health Center    WI  Healthcare Provider   \n",
              "20                      Phoenixville Hospital    PA  Healthcare Provider   \n",
              "19                          Change Healthcare    GA   Business Associate   \n",
              "17                      Kurilec Eye Care, LLC    CT  Healthcare Provider   \n",
              "0            Cavender Stores, Ltd Health Plan    TX          Health Plan   \n",
              "\n",
              "     Individuals Affected Breach Submission Date  \\\n",
              "904                  7447                2020-07   \n",
              "903                  4120                2020-07   \n",
              "901                102800                2020-08   \n",
              "893                  2869                2020-08   \n",
              "894                244813                2020-08   \n",
              "..                    ...                    ...   \n",
              "21                  46142                2022-07   \n",
              "20                    934                2022-07   \n",
              "19                   1262                2022-07   \n",
              "17                   2876                2022-07   \n",
              "0                    4447                2022-07   \n",
              "\n",
              "                     Type of Breach  \\\n",
              "904             Hacking/IT Incident   \n",
              "903             Hacking/IT Incident   \n",
              "901             Hacking/IT Incident   \n",
              "893                           Theft   \n",
              "894             Hacking/IT Incident   \n",
              "..                              ...   \n",
              "21              Hacking/IT Incident   \n",
              "20   Unauthorized Access/Disclosure   \n",
              "19   Unauthorized Access/Disclosure   \n",
              "17              Hacking/IT Incident   \n",
              "0               Hacking/IT Incident   \n",
              "\n",
              "              Location of Breached Information Business Associate Present  \n",
              "904  Electronic Medical Record, Network Server                         No  \n",
              "903                                      Email                         No  \n",
              "901                             Network Server                         No  \n",
              "893    Other, Other Portable Electronic Device                         No  \n",
              "894                             Network Server                         No  \n",
              "..                                         ...                        ...  \n",
              "21                              Network Server                         No  \n",
              "20                            Desktop Computer                         No  \n",
              "19                                 Paper/Films                        Yes  \n",
              "17                   Electronic Medical Record                        Yes  \n",
              "0                               Network Server                         No  \n",
              "\n",
              "[905 rows x 8 columns]"
            ],
            "text/html": [
              "\n",
              "  <div id=\"df-eca858b2-2263-43a3-ac41-83ce987e86ac\">\n",
              "    <div class=\"colab-df-container\">\n",
              "      <div>\n",
              "<style scoped>\n",
              "    .dataframe tbody tr th:only-of-type {\n",
              "        vertical-align: middle;\n",
              "    }\n",
              "\n",
              "    .dataframe tbody tr th {\n",
              "        vertical-align: top;\n",
              "    }\n",
              "\n",
              "    .dataframe thead th {\n",
              "        text-align: right;\n",
              "    }\n",
              "</style>\n",
              "<table border=\"1\" class=\"dataframe\">\n",
              "  <thead>\n",
              "    <tr style=\"text-align: right;\">\n",
              "      <th></th>\n",
              "      <th>Name of Covered Entity</th>\n",
              "      <th>State</th>\n",
              "      <th>Covered Entity Type</th>\n",
              "      <th>Individuals Affected</th>\n",
              "      <th>Breach Submission Date</th>\n",
              "      <th>Type of Breach</th>\n",
              "      <th>Location of Breached Information</th>\n",
              "      <th>Business Associate Present</th>\n",
              "    </tr>\n",
              "  </thead>\n",
              "  <tbody>\n",
              "    <tr>\n",
              "      <th>904</th>\n",
              "      <td>Muskingum Valley Health Centers</td>\n",
              "      <td>OH</td>\n",
              "      <td>Healthcare Provider</td>\n",
              "      <td>7447</td>\n",
              "      <td>2020-07</td>\n",
              "      <td>Hacking/IT Incident</td>\n",
              "      <td>Electronic Medical Record, Network Server</td>\n",
              "      <td>No</td>\n",
              "    </tr>\n",
              "    <tr>\n",
              "      <th>903</th>\n",
              "      <td>Freeport Regional Health Care Foundation</td>\n",
              "      <td>IL</td>\n",
              "      <td>Healthcare Provider</td>\n",
              "      <td>4120</td>\n",
              "      <td>2020-07</td>\n",
              "      <td>Hacking/IT Incident</td>\n",
              "      <td>Email</td>\n",
              "      <td>No</td>\n",
              "    </tr>\n",
              "    <tr>\n",
              "      <th>901</th>\n",
              "      <td>Dynasplint Systems, Inc.</td>\n",
              "      <td>MD</td>\n",
              "      <td>Healthcare Provider</td>\n",
              "      <td>102800</td>\n",
              "      <td>2020-08</td>\n",
              "      <td>Hacking/IT Incident</td>\n",
              "      <td>Network Server</td>\n",
              "      <td>No</td>\n",
              "    </tr>\n",
              "    <tr>\n",
              "      <th>893</th>\n",
              "      <td>BEACON ORTHOPAEDICS &amp; SPORTS MEDICINE</td>\n",
              "      <td>OH</td>\n",
              "      <td>Healthcare Provider</td>\n",
              "      <td>2869</td>\n",
              "      <td>2020-08</td>\n",
              "      <td>Theft</td>\n",
              "      <td>Other, Other Portable Electronic Device</td>\n",
              "      <td>No</td>\n",
              "    </tr>\n",
              "    <tr>\n",
              "      <th>894</th>\n",
              "      <td>Assured Imaging</td>\n",
              "      <td>AZ</td>\n",
              "      <td>Healthcare Provider</td>\n",
              "      <td>244813</td>\n",
              "      <td>2020-08</td>\n",
              "      <td>Hacking/IT Incident</td>\n",
              "      <td>Network Server</td>\n",
              "      <td>No</td>\n",
              "    </tr>\n",
              "    <tr>\n",
              "      <th>...</th>\n",
              "      <td>...</td>\n",
              "      <td>...</td>\n",
              "      <td>...</td>\n",
              "      <td>...</td>\n",
              "      <td>...</td>\n",
              "      <td>...</td>\n",
              "      <td>...</td>\n",
              "      <td>...</td>\n",
              "    </tr>\n",
              "    <tr>\n",
              "      <th>21</th>\n",
              "      <td>Southwest Health Center</td>\n",
              "      <td>WI</td>\n",
              "      <td>Healthcare Provider</td>\n",
              "      <td>46142</td>\n",
              "      <td>2022-07</td>\n",
              "      <td>Hacking/IT Incident</td>\n",
              "      <td>Network Server</td>\n",
              "      <td>No</td>\n",
              "    </tr>\n",
              "    <tr>\n",
              "      <th>20</th>\n",
              "      <td>Phoenixville Hospital</td>\n",
              "      <td>PA</td>\n",
              "      <td>Healthcare Provider</td>\n",
              "      <td>934</td>\n",
              "      <td>2022-07</td>\n",
              "      <td>Unauthorized Access/Disclosure</td>\n",
              "      <td>Desktop Computer</td>\n",
              "      <td>No</td>\n",
              "    </tr>\n",
              "    <tr>\n",
              "      <th>19</th>\n",
              "      <td>Change Healthcare</td>\n",
              "      <td>GA</td>\n",
              "      <td>Business Associate</td>\n",
              "      <td>1262</td>\n",
              "      <td>2022-07</td>\n",
              "      <td>Unauthorized Access/Disclosure</td>\n",
              "      <td>Paper/Films</td>\n",
              "      <td>Yes</td>\n",
              "    </tr>\n",
              "    <tr>\n",
              "      <th>17</th>\n",
              "      <td>Kurilec Eye Care, LLC</td>\n",
              "      <td>CT</td>\n",
              "      <td>Healthcare Provider</td>\n",
              "      <td>2876</td>\n",
              "      <td>2022-07</td>\n",
              "      <td>Hacking/IT Incident</td>\n",
              "      <td>Electronic Medical Record</td>\n",
              "      <td>Yes</td>\n",
              "    </tr>\n",
              "    <tr>\n",
              "      <th>0</th>\n",
              "      <td>Cavender Stores, Ltd Health Plan</td>\n",
              "      <td>TX</td>\n",
              "      <td>Health Plan</td>\n",
              "      <td>4447</td>\n",
              "      <td>2022-07</td>\n",
              "      <td>Hacking/IT Incident</td>\n",
              "      <td>Network Server</td>\n",
              "      <td>No</td>\n",
              "    </tr>\n",
              "  </tbody>\n",
              "</table>\n",
              "<p>905 rows × 8 columns</p>\n",
              "</div>\n",
              "      <button class=\"colab-df-convert\" onclick=\"convertToInteractive('df-eca858b2-2263-43a3-ac41-83ce987e86ac')\"\n",
              "              title=\"Convert this dataframe to an interactive table.\"\n",
              "              style=\"display:none;\">\n",
              "        \n",
              "  <svg xmlns=\"http://www.w3.org/2000/svg\" height=\"24px\"viewBox=\"0 0 24 24\"\n",
              "       width=\"24px\">\n",
              "    <path d=\"M0 0h24v24H0V0z\" fill=\"none\"/>\n",
              "    <path d=\"M18.56 5.44l.94 2.06.94-2.06 2.06-.94-2.06-.94-.94-2.06-.94 2.06-2.06.94zm-11 1L8.5 8.5l.94-2.06 2.06-.94-2.06-.94L8.5 2.5l-.94 2.06-2.06.94zm10 10l.94 2.06.94-2.06 2.06-.94-2.06-.94-.94-2.06-.94 2.06-2.06.94z\"/><path d=\"M17.41 7.96l-1.37-1.37c-.4-.4-.92-.59-1.43-.59-.52 0-1.04.2-1.43.59L10.3 9.45l-7.72 7.72c-.78.78-.78 2.05 0 2.83L4 21.41c.39.39.9.59 1.41.59.51 0 1.02-.2 1.41-.59l7.78-7.78 2.81-2.81c.8-.78.8-2.07 0-2.86zM5.41 20L4 18.59l7.72-7.72 1.47 1.35L5.41 20z\"/>\n",
              "  </svg>\n",
              "      </button>\n",
              "      \n",
              "  <style>\n",
              "    .colab-df-container {\n",
              "      display:flex;\n",
              "      flex-wrap:wrap;\n",
              "      gap: 12px;\n",
              "    }\n",
              "\n",
              "    .colab-df-convert {\n",
              "      background-color: #E8F0FE;\n",
              "      border: none;\n",
              "      border-radius: 50%;\n",
              "      cursor: pointer;\n",
              "      display: none;\n",
              "      fill: #1967D2;\n",
              "      height: 32px;\n",
              "      padding: 0 0 0 0;\n",
              "      width: 32px;\n",
              "    }\n",
              "\n",
              "    .colab-df-convert:hover {\n",
              "      background-color: #E2EBFA;\n",
              "      box-shadow: 0px 1px 2px rgba(60, 64, 67, 0.3), 0px 1px 3px 1px rgba(60, 64, 67, 0.15);\n",
              "      fill: #174EA6;\n",
              "    }\n",
              "\n",
              "    [theme=dark] .colab-df-convert {\n",
              "      background-color: #3B4455;\n",
              "      fill: #D2E3FC;\n",
              "    }\n",
              "\n",
              "    [theme=dark] .colab-df-convert:hover {\n",
              "      background-color: #434B5C;\n",
              "      box-shadow: 0px 1px 3px 1px rgba(0, 0, 0, 0.15);\n",
              "      filter: drop-shadow(0px 1px 2px rgba(0, 0, 0, 0.3));\n",
              "      fill: #FFFFFF;\n",
              "    }\n",
              "  </style>\n",
              "\n",
              "      <script>\n",
              "        const buttonEl =\n",
              "          document.querySelector('#df-eca858b2-2263-43a3-ac41-83ce987e86ac button.colab-df-convert');\n",
              "        buttonEl.style.display =\n",
              "          google.colab.kernel.accessAllowed ? 'block' : 'none';\n",
              "\n",
              "        async function convertToInteractive(key) {\n",
              "          const element = document.querySelector('#df-eca858b2-2263-43a3-ac41-83ce987e86ac');\n",
              "          const dataTable =\n",
              "            await google.colab.kernel.invokeFunction('convertToInteractive',\n",
              "                                                     [key], {});\n",
              "          if (!dataTable) return;\n",
              "\n",
              "          const docLinkHtml = 'Like what you see? Visit the ' +\n",
              "            '<a target=\"_blank\" href=https://colab.research.google.com/notebooks/data_table.ipynb>data table notebook</a>'\n",
              "            + ' to learn more about interactive tables.';\n",
              "          element.innerHTML = '';\n",
              "          dataTable['output_type'] = 'display_data';\n",
              "          await google.colab.output.renderOutput(dataTable, element);\n",
              "          const docLink = document.createElement('div');\n",
              "          docLink.innerHTML = docLinkHtml;\n",
              "          element.appendChild(docLink);\n",
              "        }\n",
              "      </script>\n",
              "    </div>\n",
              "  </div>\n",
              "  "
            ]
          },
          "metadata": {},
          "execution_count": 71
        }
      ]
    },
    {
      "cell_type": "markdown",
      "source": [
        "The scatterplot below shows the data breaches along with the month and year of the attack. We are able to vizualize this data and can attempt to notice trends. For example, the summer months (June, July, August) are the most common months in which data breaches occur"
      ],
      "metadata": {
        "id": "zOZ5etTpGf-J"
      }
    },
    {
      "cell_type": "code",
      "source": [
        "plt.scatter(x=data.index, y=data.values)\n",
        "plt.rcParams[\"figure.figsize\"] = [20,3]\n",
        "plt.xlabel('Months', size = \"large\")\n",
        "plt.ylabel('Number of Data Breaches', size = \"large\")"
      ],
      "metadata": {
        "id": "GjZP8Wc_Ihtt",
        "colab": {
          "base_uri": "https://localhost:8080/",
          "height": 256
        },
        "outputId": "e9f5115d-5865-493c-de3b-54ad294025ac"
      },
      "execution_count": 72,
      "outputs": [
        {
          "output_type": "execute_result",
          "data": {
            "text/plain": [
              "Text(0, 0.5, 'Number of Data Breaches')"
            ]
          },
          "metadata": {},
          "execution_count": 72
        },
        {
          "output_type": "display_data",
          "data": {
            "text/plain": [
              "<Figure size 1440x216 with 1 Axes>"
            ],
            "image/png": "[encoded data removed]"
          },
          "metadata": {
            "needs_background": "light"
          }
        }
      ]
    },
    {
      "cell_type": "code",
      "source": [
        "grouped_by_type.head()"
      ],
      "metadata": {
        "colab": {
          "base_uri": "https://localhost:8080/",
          "height": 204
        },
        "id": "9rIUqedDehJE",
        "outputId": "b7e400f0-3392-495e-a617-545e4fc6f1bf"
      },
      "execution_count": 73,
      "outputs": [
        {
          "output_type": "execute_result",
          "data": {
            "text/plain": [
              "                   Type of Breach  tot_affected\n",
              "0             Hacking/IT Incident      63723520\n",
              "1               Improper Disposal        191220\n",
              "2                            Loss         33089\n",
              "3                           Theft        431252\n",
              "4  Unauthorized Access/Disclosure       3120977"
            ],
            "text/html": [
              "\n",
              "  <div id=\"df-56ed4f85-21fe-48b7-8788-d33dc0a2c0f9\">\n",
              "    <div class=\"colab-df-container\">\n",
              "      <div>\n",
              "<style scoped>\n",
              "    .dataframe tbody tr th:only-of-type {\n",
              "        vertical-align: middle;\n",
              "    }\n",
              "\n",
              "    .dataframe tbody tr th {\n",
              "        vertical-align: top;\n",
              "    }\n",
              "\n",
              "    .dataframe thead th {\n",
              "        text-align: right;\n",
              "    }\n",
              "</style>\n",
              "<table border=\"1\" class=\"dataframe\">\n",
              "  <thead>\n",
              "    <tr style=\"text-align: right;\">\n",
              "      <th></th>\n",
              "      <th>Type of Breach</th>\n",
              "      <th>tot_affected</th>\n",
              "    </tr>\n",
              "  </thead>\n",
              "  <tbody>\n",
              "    <tr>\n",
              "      <th>0</th>\n",
              "      <td>Hacking/IT Incident</td>\n",
              "      <td>63723520</td>\n",
              "    </tr>\n",
              "    <tr>\n",
              "      <th>1</th>\n",
              "      <td>Improper Disposal</td>\n",
              "      <td>191220</td>\n",
              "    </tr>\n",
              "    <tr>\n",
              "      <th>2</th>\n",
              "      <td>Loss</td>\n",
              "      <td>33089</td>\n",
              "    </tr>\n",
              "    <tr>\n",
              "      <th>3</th>\n",
              "      <td>Theft</td>\n",
              "      <td>431252</td>\n",
              "    </tr>\n",
              "    <tr>\n",
              "      <th>4</th>\n",
              "      <td>Unauthorized Access/Disclosure</td>\n",
              "      <td>3120977</td>\n",
              "    </tr>\n",
              "  </tbody>\n",
              "</table>\n",
              "</div>\n",
              "      <button class=\"colab-df-convert\" onclick=\"convertToInteractive('df-56ed4f85-21fe-48b7-8788-d33dc0a2c0f9')\"\n",
              "              title=\"Convert this dataframe to an interactive table.\"\n",
              "              style=\"display:none;\">\n",
              "        \n",
              "  <svg xmlns=\"http://www.w3.org/2000/svg\" height=\"24px\"viewBox=\"0 0 24 24\"\n",
              "       width=\"24px\">\n",
              "    <path d=\"M0 0h24v24H0V0z\" fill=\"none\"/>\n",
              "    <path d=\"M18.56 5.44l.94 2.06.94-2.06 2.06-.94-2.06-.94-.94-2.06-.94 2.06-2.06.94zm-11 1L8.5 8.5l.94-2.06 2.06-.94-2.06-.94L8.5 2.5l-.94 2.06-2.06.94zm10 10l.94 2.06.94-2.06 2.06-.94-2.06-.94-.94-2.06-.94 2.06-2.06.94z\"/><path d=\"M17.41 7.96l-1.37-1.37c-.4-.4-.92-.59-1.43-.59-.52 0-1.04.2-1.43.59L10.3 9.45l-7.72 7.72c-.78.78-.78 2.05 0 2.83L4 21.41c.39.39.9.59 1.41.59.51 0 1.02-.2 1.41-.59l7.78-7.78 2.81-2.81c.8-.78.8-2.07 0-2.86zM5.41 20L4 18.59l7.72-7.72 1.47 1.35L5.41 20z\"/>\n",
              "  </svg>\n",
              "      </button>\n",
              "      \n",
              "  <style>\n",
              "    .colab-df-container {\n",
              "      display:flex;\n",
              "      flex-wrap:wrap;\n",
              "      gap: 12px;\n",
              "    }\n",
              "\n",
              "    .colab-df-convert {\n",
              "      background-color: #E8F0FE;\n",
              "      border: none;\n",
              "      border-radius: 50%;\n",
              "      cursor: pointer;\n",
              "      display: none;\n",
              "      fill: #1967D2;\n",
              "      height: 32px;\n",
              "      padding: 0 0 0 0;\n",
              "      width: 32px;\n",
              "    }\n",
              "\n",
              "    .colab-df-convert:hover {\n",
              "      background-color: #E2EBFA;\n",
              "      box-shadow: 0px 1px 2px rgba(60, 64, 67, 0.3), 0px 1px 3px 1px rgba(60, 64, 67, 0.15);\n",
              "      fill: #174EA6;\n",
              "    }\n",
              "\n",
              "    [theme=dark] .colab-df-convert {\n",
              "      background-color: #3B4455;\n",
              "      fill: #D2E3FC;\n",
              "    }\n",
              "\n",
              "    [theme=dark] .colab-df-convert:hover {\n",
              "      background-color: #434B5C;\n",
              "      box-shadow: 0px 1px 3px 1px rgba(0, 0, 0, 0.15);\n",
              "      filter: drop-shadow(0px 1px 2px rgba(0, 0, 0, 0.3));\n",
              "      fill: #FFFFFF;\n",
              "    }\n",
              "  </style>\n",
              "\n",
              "      <script>\n",
              "        const buttonEl =\n",
              "          document.querySelector('#df-56ed4f85-21fe-48b7-8788-d33dc0a2c0f9 button.colab-df-convert');\n",
              "        buttonEl.style.display =\n",
              "          google.colab.kernel.accessAllowed ? 'block' : 'none';\n",
              "\n",
              "        async function convertToInteractive(key) {\n",
              "          const element = document.querySelector('#df-56ed4f85-21fe-48b7-8788-d33dc0a2c0f9');\n",
              "          const dataTable =\n",
              "            await google.colab.kernel.invokeFunction('convertToInteractive',\n",
              "                                                     [key], {});\n",
              "          if (!dataTable) return;\n",
              "\n",
              "          const docLinkHtml = 'Like what you see? Visit the ' +\n",
              "            '<a target=\"_blank\" href=https://colab.research.google.com/notebooks/data_table.ipynb>data table notebook</a>'\n",
              "            + ' to learn more about interactive tables.';\n",
              "          element.innerHTML = '';\n",
              "          dataTable['output_type'] = 'display_data';\n",
              "          await google.colab.output.renderOutput(dataTable, element);\n",
              "          const docLink = document.createElement('div');\n",
              "          docLink.innerHTML = docLinkHtml;\n",
              "          element.appendChild(docLink);\n",
              "        }\n",
              "      </script>\n",
              "    </div>\n",
              "  </div>\n",
              "  "
            ]
          },
          "metadata": {},
          "execution_count": 73
        }
      ]
    },
    {
      "cell_type": "markdown",
      "source": [
        "We will now visualise the individuals affected by each type of data breach. We can clearly see that hacking and IT incidents are the most common type of data breach."
      ],
      "metadata": {
        "id": "1b-1JthdF6z5"
      }
    },
    {
      "cell_type": "code",
      "source": [
        "plt.title(\"How many individuals were affected due to each type of data breach?\")\n",
        "plt.bar(grouped_by_type['Type of Breach'], height = grouped_by_type['tot_affected'])"
      ],
      "metadata": {
        "colab": {
          "base_uri": "https://localhost:8080/",
          "height": 244
        },
        "id": "ShzgrasIeSNb",
        "outputId": "ceb1cb59-7ba5-4f4b-82df-aee22b07e3ee"
      },
      "execution_count": 74,
      "outputs": [
        {
          "output_type": "execute_result",
          "data": {
            "text/plain": [
              "<BarContainer object of 5 artists>"
            ]
          },
          "metadata": {},
          "execution_count": 74
        },
        {
          "output_type": "display_data",
          "data": {
            "text/plain": [
              "<Figure size 1440x216 with 1 Axes>"
            ],
            "image/png": "[encoded data removed]"
          },
          "metadata": {
            "needs_background": "light"
          }
        }
      ]
    },
    {
      "cell_type": "markdown",
      "source": [
        "We can visualise the above data with a pie chart and see the distribution of data breach methods\n"
      ],
      "metadata": {
        "id": "bZOP32C4Am5X"
      }
    },
    {
      "cell_type": "code",
      "source": [
        "pie = plt.pie(grouped_by_breach['tot_affected'], labels=None, autopct=\"%1.1f%%\", pctdistance=1.5);\n",
        "plt.legend(title = \"Breaches\")\n",
        "labels= grouped_by_breach[\"Type of Breach\"]\n",
        "plt.title('Breaches', weight='bold', size=14)\n",
        "plt.legend(pie[0],labels, bbox_to_anchor=(1.5,0), loc=\"right\", fontsize=10, \n",
        "           bbox_transform=plt.gcf().transFigure)"
      ],
      "metadata": {
        "colab": {
          "base_uri": "https://localhost:8080/",
          "height": 232
        },
        "id": "XwrvxfZSz-dn",
        "outputId": "44c4dbf8-3029-4534-80f5-4a3a7319b549"
      },
      "execution_count": 75,
      "outputs": [
        {
          "output_type": "error",
          "ename": "NameError",
          "evalue": "ignored",
          "traceback": [
            "\u001b[0;31m---------------------------------------------------------------------------\u001b[0m",
            "\u001b[0;31mNameError\u001b[0m                                 Traceback (most recent call last)",
            "\u001b[0;32m<ipython-input-75-ff887a67c1f1>\u001b[0m in \u001b[0;36m<module>\u001b[0;34m\u001b[0m\n\u001b[0;32m----> 1\u001b[0;31m \u001b[0mpie\u001b[0m \u001b[0;34m=\u001b[0m \u001b[0mplt\u001b[0m\u001b[0;34m.\u001b[0m\u001b[0mpie\u001b[0m\u001b[0;34m(\u001b[0m\u001b[0mgrouped_by_breach\u001b[0m\u001b[0;34m[\u001b[0m\u001b[0;34m'tot_affected'\u001b[0m\u001b[0;34m]\u001b[0m\u001b[0;34m,\u001b[0m \u001b[0mlabels\u001b[0m\u001b[0;34m=\u001b[0m\u001b[0;32mNone\u001b[0m\u001b[0;34m,\u001b[0m \u001b[0mautopct\u001b[0m\u001b[0;34m=\u001b[0m\u001b[0;34m\"%1.1f%%\"\u001b[0m\u001b[0;34m,\u001b[0m \u001b[0mpctdistance\u001b[0m\u001b[0;34m=\u001b[0m\u001b[0;36m1.5\u001b[0m\u001b[0;34m)\u001b[0m\u001b[0;34m;\u001b[0m\u001b[0;34m\u001b[0m\u001b[0;34m\u001b[0m\u001b[0m\n\u001b[0m\u001b[1;32m      2\u001b[0m \u001b[0mplt\u001b[0m\u001b[0;34m.\u001b[0m\u001b[0mlegend\u001b[0m\u001b[0;34m(\u001b[0m\u001b[0mtitle\u001b[0m \u001b[0;34m=\u001b[0m \u001b[0;34m\"Breaches\"\u001b[0m\u001b[0;34m)\u001b[0m\u001b[0;34m\u001b[0m\u001b[0;34m\u001b[0m\u001b[0m\n\u001b[1;32m      3\u001b[0m \u001b[0mlabels\u001b[0m\u001b[0;34m=\u001b[0m \u001b[0mgrouped_by_breach\u001b[0m\u001b[0;34m[\u001b[0m\u001b[0;34m\"Type of Breach\"\u001b[0m\u001b[0;34m]\u001b[0m\u001b[0;34m\u001b[0m\u001b[0;34m\u001b[0m\u001b[0m\n\u001b[1;32m      4\u001b[0m \u001b[0mplt\u001b[0m\u001b[0;34m.\u001b[0m\u001b[0mtitle\u001b[0m\u001b[0;34m(\u001b[0m\u001b[0;34m'Breaches'\u001b[0m\u001b[0;34m,\u001b[0m \u001b[0mweight\u001b[0m\u001b[0;34m=\u001b[0m\u001b[0;34m'bold'\u001b[0m\u001b[0;34m,\u001b[0m \u001b[0msize\u001b[0m\u001b[0;34m=\u001b[0m\u001b[0;36m14\u001b[0m\u001b[0;34m)\u001b[0m\u001b[0;34m\u001b[0m\u001b[0;34m\u001b[0m\u001b[0m\n\u001b[1;32m      5\u001b[0m plt.legend(pie[0],labels, bbox_to_anchor=(1.5,0), loc=\"right\", fontsize=10, \n",
            "\u001b[0;31mNameError\u001b[0m: name 'grouped_by_breach' is not defined"
          ]
        }
      ]
    },
    {
      "cell_type": "code",
      "source": [
        "grouped_by_state = breaches_clean.groupby(['State', 'Location of Breached Information'], as_index = False)"
      ],
      "metadata": {
        "id": "4nyoZdbbeufU"
      },
      "execution_count": 76,
      "outputs": []
    },
    {
      "cell_type": "code",
      "source": [
        "yeet = grouped_by_state.agg(num_incidents = ('Location of Breached Information', \"count\"))\n",
        "max = {} #AK -> (name of breach, count)\n",
        "for i, row in yeet.iterrows():\n",
        "    state = row[\"State\"]\n",
        "    breach = row[\"Location of Breached Information\"] \n",
        "    num_incidents = row[\"num_incidents\"] \n",
        "    if state in max:\n",
        "        count = (max[state])[1]\n",
        "        if num_incidents > count:\n",
        "            max[state] = (breach, num_incidents)\n",
        "    else:\n",
        "        max[state] = (breach, num_incidents) \n",
        "states = []\n",
        "incidences = []\n",
        "locations = []\n",
        "for state, report in max.items():\n",
        "    states.append(state)\n",
        "    incidences.append(report[1]) \n",
        "    locations.append(report[0])"
      ],
      "metadata": {
        "id": "K6LttXlRfMc-"
      },
      "execution_count": 77,
      "outputs": []
    },
    {
      "cell_type": "markdown",
      "source": [
        "With the above data, we will visualise the number of unique breaches for the most common breaches in each state. For example, the most common breach in California is a Network Server breach, and there were 36 unique occurences of this breach in the last 24 months"
      ],
      "metadata": {
        "id": "I0tc5VWNFOqF"
      }
    },
    {
      "cell_type": "markdown",
      "source": [
        "The dataframe below shows the most commonly affected data location. The visualisation follows."
      ],
      "metadata": {
        "id": "V8f9pZvPMC9t"
      }
    },
    {
      "cell_type": "code",
      "source": [
        "data = {\"State\" : states, \"Most Common Location\" : locations}\n",
        "df = pd.DataFrame(data)\n",
        "df"
      ],
      "metadata": {
        "id": "EGqcZeMoLPpL",
        "colab": {
          "base_uri": "https://localhost:8080/",
          "height": 1000
        },
        "outputId": "3f289c81-28a5-4601-a525-3e0edb0d88f6"
      },
      "execution_count": 78,
      "outputs": [
        {
          "output_type": "execute_result",
          "data": {
            "text/plain": [
              "   State                         Most Common Location\n",
              "0     AK     Desktop Computer, Laptop, Network Server\n",
              "1     AL                               Network Server\n",
              "2     AR                                        Email\n",
              "3     AZ                               Network Server\n",
              "4     CA                               Network Server\n",
              "5     CO                                        Email\n",
              "6     CT                                        Email\n",
              "7     DC                                        Email\n",
              "8     DE                               Network Server\n",
              "9     FL                               Network Server\n",
              "10    GA                               Network Server\n",
              "11    HI                    Electronic Medical Record\n",
              "12    IA                                        Email\n",
              "13    ID                                        Email\n",
              "14    IL                               Network Server\n",
              "15    IN                               Network Server\n",
              "16    KS                               Network Server\n",
              "17    KY                                        Email\n",
              "18    LA                                        Email\n",
              "19    MA                               Network Server\n",
              "20    MD                               Network Server\n",
              "21    ME                    Electronic Medical Record\n",
              "22    MI                               Network Server\n",
              "23    MN                                        Email\n",
              "24    MO                               Network Server\n",
              "25    MS                               Network Server\n",
              "26    MT                                        Email\n",
              "27    NC                               Network Server\n",
              "28    ND                                        Email\n",
              "29    NE                    Electronic Medical Record\n",
              "30    NH                               Network Server\n",
              "31    NJ                               Network Server\n",
              "32    NM                               Network Server\n",
              "33    NV                                        Email\n",
              "34    NY                               Network Server\n",
              "35    OH                               Network Server\n",
              "36    OK                               Network Server\n",
              "37    OR                               Network Server\n",
              "38    PA                               Network Server\n",
              "39    RI                               Network Server\n",
              "40    SC                               Network Server\n",
              "41    SD                               Network Server\n",
              "42    TN                               Network Server\n",
              "43    TX                               Network Server\n",
              "44    UT                               Network Server\n",
              "45    VA                               Network Server\n",
              "46    VT             Electronic Medical Record, Other\n",
              "47    WA                               Network Server\n",
              "48    WI                               Network Server\n",
              "49    WV                                        Email\n",
              "50    WY  Desktop Computer, Electronic Medical Record"
            ],
            "text/html": [
              "\n",
              "  <div id=\"df-938a00f7-6714-415d-ba75-ae69612384e4\">\n",
              "    <div class=\"colab-df-container\">\n",
              "      <div>\n",
              "<style scoped>\n",
              "    .dataframe tbody tr th:only-of-type {\n",
              "        vertical-align: middle;\n",
              "    }\n",
              "\n",
              "    .dataframe tbody tr th {\n",
              "        vertical-align: top;\n",
              "    }\n",
              "\n",
              "    .dataframe thead th {\n",
              "        text-align: right;\n",
              "    }\n",
              "</style>\n",
              "<table border=\"1\" class=\"dataframe\">\n",
              "  <thead>\n",
              "    <tr style=\"text-align: right;\">\n",
              "      <th></th>\n",
              "      <th>State</th>\n",
              "      <th>Most Common Location</th>\n",
              "    </tr>\n",
              "  </thead>\n",
              "  <tbody>\n",
              "    <tr>\n",
              "      <th>0</th>\n",
              "      <td>AK</td>\n",
              "      <td>Desktop Computer, Laptop, Network Server</td>\n",
              "    </tr>\n",
              "    <tr>\n",
              "      <th>1</th>\n",
              "      <td>AL</td>\n",
              "      <td>Network Server</td>\n",
              "    </tr>\n",
              "    <tr>\n",
              "      <th>2</th>\n",
              "      <td>AR</td>\n",
              "      <td>Email</td>\n",
              "    </tr>\n",
              "    <tr>\n",
              "      <th>3</th>\n",
              "      <td>AZ</td>\n",
              "      <td>Network Server</td>\n",
              "    </tr>\n",
              "    <tr>\n",
              "      <th>4</th>\n",
              "      <td>CA</td>\n",
              "      <td>Network Server</td>\n",
              "    </tr>\n",
              "    <tr>\n",
              "      <th>5</th>\n",
              "      <td>CO</td>\n",
              "      <td>Email</td>\n",
              "    </tr>\n",
              "    <tr>\n",
              "      <th>6</th>\n",
              "      <td>CT</td>\n",
              "      <td>Email</td>\n",
              "    </tr>\n",
              "    <tr>\n",
              "      <th>7</th>\n",
              "      <td>DC</td>\n",
              "      <td>Email</td>\n",
              "    </tr>\n",
              "    <tr>\n",
              "      <th>8</th>\n",
              "      <td>DE</td>\n",
              "      <td>Network Server</td>\n",
              "    </tr>\n",
              "    <tr>\n",
              "      <th>9</th>\n",
              "      <td>FL</td>\n",
              "      <td>Network Server</td>\n",
              "    </tr>\n",
              "    <tr>\n",
              "      <th>10</th>\n",
              "      <td>GA</td>\n",
              "      <td>Network Server</td>\n",
              "    </tr>\n",
              "    <tr>\n",
              "      <th>11</th>\n",
              "      <td>HI</td>\n",
              "      <td>Electronic Medical Record</td>\n",
              "    </tr>\n",
              "    <tr>\n",
              "      <th>12</th>\n",
              "      <td>IA</td>\n",
              "      <td>Email</td>\n",
              "    </tr>\n",
              "    <tr>\n",
              "      <th>13</th>\n",
              "      <td>ID</td>\n",
              "      <td>Email</td>\n",
              "    </tr>\n",
              "    <tr>\n",
              "      <th>14</th>\n",
              "      <td>IL</td>\n",
              "      <td>Network Server</td>\n",
              "    </tr>\n",
              "    <tr>\n",
              "      <th>15</th>\n",
              "      <td>IN</td>\n",
              "      <td>Network Server</td>\n",
              "    </tr>\n",
              "    <tr>\n",
              "      <th>16</th>\n",
              "      <td>KS</td>\n",
              "      <td>Network Server</td>\n",
              "    </tr>\n",
              "    <tr>\n",
              "      <th>17</th>\n",
              "      <td>KY</td>\n",
              "      <td>Email</td>\n",
              "    </tr>\n",
              "    <tr>\n",
              "      <th>18</th>\n",
              "      <td>LA</td>\n",
              "      <td>Email</td>\n",
              "    </tr>\n",
              "    <tr>\n",
              "      <th>19</th>\n",
              "      <td>MA</td>\n",
              "      <td>Network Server</td>\n",
              "    </tr>\n",
              "    <tr>\n",
              "      <th>20</th>\n",
              "      <td>MD</td>\n",
              "      <td>Network Server</td>\n",
              "    </tr>\n",
              "    <tr>\n",
              "      <th>21</th>\n",
              "      <td>ME</td>\n",
              "      <td>Electronic Medical Record</td>\n",
              "    </tr>\n",
              "    <tr>\n",
              "      <th>22</th>\n",
              "      <td>MI</td>\n",
              "      <td>Network Server</td>\n",
              "    </tr>\n",
              "    <tr>\n",
              "      <th>23</th>\n",
              "      <td>MN</td>\n",
              "      <td>Email</td>\n",
              "    </tr>\n",
              "    <tr>\n",
              "      <th>24</th>\n",
              "      <td>MO</td>\n",
              "      <td>Network Server</td>\n",
              "    </tr>\n",
              "    <tr>\n",
              "      <th>25</th>\n",
              "      <td>MS</td>\n",
              "      <td>Network Server</td>\n",
              "    </tr>\n",
              "    <tr>\n",
              "      <th>26</th>\n",
              "      <td>MT</td>\n",
              "      <td>Email</td>\n",
              "    </tr>\n",
              "    <tr>\n",
              "      <th>27</th>\n",
              "      <td>NC</td>\n",
              "      <td>Network Server</td>\n",
              "    </tr>\n",
              "    <tr>\n",
              "      <th>28</th>\n",
              "      <td>ND</td>\n",
              "      <td>Email</td>\n",
              "    </tr>\n",
              "    <tr>\n",
              "      <th>29</th>\n",
              "      <td>NE</td>\n",
              "      <td>Electronic Medical Record</td>\n",
              "    </tr>\n",
              "    <tr>\n",
              "      <th>30</th>\n",
              "      <td>NH</td>\n",
              "      <td>Network Server</td>\n",
              "    </tr>\n",
              "    <tr>\n",
              "      <th>31</th>\n",
              "      <td>NJ</td>\n",
              "      <td>Network Server</td>\n",
              "    </tr>\n",
              "    <tr>\n",
              "      <th>32</th>\n",
              "      <td>NM</td>\n",
              "      <td>Network Server</td>\n",
              "    </tr>\n",
              "    <tr>\n",
              "      <th>33</th>\n",
              "      <td>NV</td>\n",
              "      <td>Email</td>\n",
              "    </tr>\n",
              "    <tr>\n",
              "      <th>34</th>\n",
              "      <td>NY</td>\n",
              "      <td>Network Server</td>\n",
              "    </tr>\n",
              "    <tr>\n",
              "      <th>35</th>\n",
              "      <td>OH</td>\n",
              "      <td>Network Server</td>\n",
              "    </tr>\n",
              "    <tr>\n",
              "      <th>36</th>\n",
              "      <td>OK</td>\n",
              "      <td>Network Server</td>\n",
              "    </tr>\n",
              "    <tr>\n",
              "      <th>37</th>\n",
              "      <td>OR</td>\n",
              "      <td>Network Server</td>\n",
              "    </tr>\n",
              "    <tr>\n",
              "      <th>38</th>\n",
              "      <td>PA</td>\n",
              "      <td>Network Server</td>\n",
              "    </tr>\n",
              "    <tr>\n",
              "      <th>39</th>\n",
              "      <td>RI</td>\n",
              "      <td>Network Server</td>\n",
              "    </tr>\n",
              "    <tr>\n",
              "      <th>40</th>\n",
              "      <td>SC</td>\n",
              "      <td>Network Server</td>\n",
              "    </tr>\n",
              "    <tr>\n",
              "      <th>41</th>\n",
              "      <td>SD</td>\n",
              "      <td>Network Server</td>\n",
              "    </tr>\n",
              "    <tr>\n",
              "      <th>42</th>\n",
              "      <td>TN</td>\n",
              "      <td>Network Server</td>\n",
              "    </tr>\n",
              "    <tr>\n",
              "      <th>43</th>\n",
              "      <td>TX</td>\n",
              "      <td>Network Server</td>\n",
              "    </tr>\n",
              "    <tr>\n",
              "      <th>44</th>\n",
              "      <td>UT</td>\n",
              "      <td>Network Server</td>\n",
              "    </tr>\n",
              "    <tr>\n",
              "      <th>45</th>\n",
              "      <td>VA</td>\n",
              "      <td>Network Server</td>\n",
              "    </tr>\n",
              "    <tr>\n",
              "      <th>46</th>\n",
              "      <td>VT</td>\n",
              "      <td>Electronic Medical Record, Other</td>\n",
              "    </tr>\n",
              "    <tr>\n",
              "      <th>47</th>\n",
              "      <td>WA</td>\n",
              "      <td>Network Server</td>\n",
              "    </tr>\n",
              "    <tr>\n",
              "      <th>48</th>\n",
              "      <td>WI</td>\n",
              "      <td>Network Server</td>\n",
              "    </tr>\n",
              "    <tr>\n",
              "      <th>49</th>\n",
              "      <td>WV</td>\n",
              "      <td>Email</td>\n",
              "    </tr>\n",
              "    <tr>\n",
              "      <th>50</th>\n",
              "      <td>WY</td>\n",
              "      <td>Desktop Computer, Electronic Medical Record</td>\n",
              "    </tr>\n",
              "  </tbody>\n",
              "</table>\n",
              "</div>\n",
              "      <button class=\"colab-df-convert\" onclick=\"convertToInteractive('df-938a00f7-6714-415d-ba75-ae69612384e4')\"\n",
              "              title=\"Convert this dataframe to an interactive table.\"\n",
              "              style=\"display:none;\">\n",
              "        \n",
              "  <svg xmlns=\"http://www.w3.org/2000/svg\" height=\"24px\"viewBox=\"0 0 24 24\"\n",
              "       width=\"24px\">\n",
              "    <path d=\"M0 0h24v24H0V0z\" fill=\"none\"/>\n",
              "    <path d=\"M18.56 5.44l.94 2.06.94-2.06 2.06-.94-2.06-.94-.94-2.06-.94 2.06-2.06.94zm-11 1L8.5 8.5l.94-2.06 2.06-.94-2.06-.94L8.5 2.5l-.94 2.06-2.06.94zm10 10l.94 2.06.94-2.06 2.06-.94-2.06-.94-.94-2.06-.94 2.06-2.06.94z\"/><path d=\"M17.41 7.96l-1.37-1.37c-.4-.4-.92-.59-1.43-.59-.52 0-1.04.2-1.43.59L10.3 9.45l-7.72 7.72c-.78.78-.78 2.05 0 2.83L4 21.41c.39.39.9.59 1.41.59.51 0 1.02-.2 1.41-.59l7.78-7.78 2.81-2.81c.8-.78.8-2.07 0-2.86zM5.41 20L4 18.59l7.72-7.72 1.47 1.35L5.41 20z\"/>\n",
              "  </svg>\n",
              "      </button>\n",
              "      \n",
              "  <style>\n",
              "    .colab-df-container {\n",
              "      display:flex;\n",
              "      flex-wrap:wrap;\n",
              "      gap: 12px;\n",
              "    }\n",
              "\n",
              "    .colab-df-convert {\n",
              "      background-color: #E8F0FE;\n",
              "      border: none;\n",
              "      border-radius: 50%;\n",
              "      cursor: pointer;\n",
              "      display: none;\n",
              "      fill: #1967D2;\n",
              "      height: 32px;\n",
              "      padding: 0 0 0 0;\n",
              "      width: 32px;\n",
              "    }\n",
              "\n",
              "    .colab-df-convert:hover {\n",
              "      background-color: #E2EBFA;\n",
              "      box-shadow: 0px 1px 2px rgba(60, 64, 67, 0.3), 0px 1px 3px 1px rgba(60, 64, 67, 0.15);\n",
              "      fill: #174EA6;\n",
              "    }\n",
              "\n",
              "    [theme=dark] .colab-df-convert {\n",
              "      background-color: #3B4455;\n",
              "      fill: #D2E3FC;\n",
              "    }\n",
              "\n",
              "    [theme=dark] .colab-df-convert:hover {\n",
              "      background-color: #434B5C;\n",
              "      box-shadow: 0px 1px 3px 1px rgba(0, 0, 0, 0.15);\n",
              "      filter: drop-shadow(0px 1px 2px rgba(0, 0, 0, 0.3));\n",
              "      fill: #FFFFFF;\n",
              "    }\n",
              "  </style>\n",
              "\n",
              "      <script>\n",
              "        const buttonEl =\n",
              "          document.querySelector('#df-938a00f7-6714-415d-ba75-ae69612384e4 button.colab-df-convert');\n",
              "        buttonEl.style.display =\n",
              "          google.colab.kernel.accessAllowed ? 'block' : 'none';\n",
              "\n",
              "        async function convertToInteractive(key) {\n",
              "          const element = document.querySelector('#df-938a00f7-6714-415d-ba75-ae69612384e4');\n",
              "          const dataTable =\n",
              "            await google.colab.kernel.invokeFunction('convertToInteractive',\n",
              "                                                     [key], {});\n",
              "          if (!dataTable) return;\n",
              "\n",
              "          const docLinkHtml = 'Like what you see? Visit the ' +\n",
              "            '<a target=\"_blank\" href=https://colab.research.google.com/notebooks/data_table.ipynb>data table notebook</a>'\n",
              "            + ' to learn more about interactive tables.';\n",
              "          element.innerHTML = '';\n",
              "          dataTable['output_type'] = 'display_data';\n",
              "          await google.colab.output.renderOutput(dataTable, element);\n",
              "          const docLink = document.createElement('div');\n",
              "          docLink.innerHTML = docLinkHtml;\n",
              "          element.appendChild(docLink);\n",
              "        }\n",
              "      </script>\n",
              "    </div>\n",
              "  </div>\n",
              "  "
            ]
          },
          "metadata": {},
          "execution_count": 78
        }
      ]
    },
    {
      "cell_type": "code",
      "source": [
        "plt.bar(states, incidences);\n",
        "plt.xlabel(\"State\");\n",
        "plt.ylabel(\"Number of incidences of most common breach\");"
      ],
      "metadata": {
        "id": "-HaC5y1if5jb",
        "colab": {
          "base_uri": "https://localhost:8080/",
          "height": 264
        },
        "outputId": "0ae97185-4812-448a-8de9-c674021fade4"
      },
      "execution_count": 79,
      "outputs": [
        {
          "output_type": "display_data",
          "data": {
            "text/plain": [
              "<Figure size 1440x216 with 1 Axes>"
            ],
            "image/png": "[encoded data removed]"
          },
          "metadata": {
            "needs_background": "light"
          }
        }
      ]
    },
    {
      "cell_type": "markdown",
      "source": [
        "This bar graph shows the Entity Type compromised during the data breach along with the number of Individuals Affected from the data breach. This data is significant as it shows that entering as a heatlhcare provider would cause more individuals to be affected, therefore increasing security measures on such accounts would be a step in the right direction. "
      ],
      "metadata": {
        "id": "uTvSWtQk1KaQ"
      }
    },
    {
      "cell_type": "code",
      "source": [
        "grouped_by_type = breaches_clean.groupby(['Covered Entity Type'], as_index = False).agg(tot_affected = (\"Individuals Affected\", \"sum\"))\n",
        "x = np.arange(len(grouped_by_type['tot_affected']))\n",
        "y = grouped_by_type['tot_affected']\n",
        "width = 0.35 \n",
        "labels = list(grouped_by_type[\"Covered Entity Type\"])\n",
        "fig, ax = plt.subplots()\n",
        "ax.bar(x - width/2, list(y), width)\n",
        "ax.set_xticks(x)\n",
        "ax.set_xticklabels(list(grouped_by_type[\"Covered Entity Type\"]), rotation =45)\n",
        "ax.set_ylabel('Individuals Affected')\n",
        "ax.set_xlabel('Covered Entity Type')"
      ],
      "metadata": {
        "id": "TQ44lmvEzxl6",
        "colab": {
          "base_uri": "https://localhost:8080/",
          "height": 345
        },
        "outputId": "1b53ca5d-cfaf-4e44-c4d5-69215c6df357"
      },
      "execution_count": 80,
      "outputs": [
        {
          "output_type": "execute_result",
          "data": {
            "text/plain": [
              "Text(0.5, 0, 'Covered Entity Type')"
            ]
          },
          "metadata": {},
          "execution_count": 80
        },
        {
          "output_type": "display_data",
          "data": {
            "text/plain": [
              "<Figure size 1440x216 with 1 Axes>"
            ],
            "image/png": "[encoded data removed]"
          },
          "metadata": {
            "needs_background": "light"
          }
        }
      ]
    },
    {
      "cell_type": "code",
      "source": [],
      "metadata": {
        "id": "s03El7orVW4U"
      },
      "execution_count": null,
      "outputs": []
    }
  ],
  "metadata": {
    "kernelspec": {
      "display_name": "Python 3",
      "language": "python",
      "name": "python3"
    },
    "language_info": {
      "codemirror_mode": {
        "name": "ipython",
        "version": 3
      },
      "file_extension": ".py",
      "mimetype": "text/x-python",
      "name": "python",
      "nbconvert_exporter": "python",
      "pygments_lexer": "ipython3",
      "version": "3.7.7"
    },
    "colab": {
      "provenance": []
    }
  },
  "nbformat": 4,
  "nbformat_minor": 0
}